{
 "cells": [
  {
   "cell_type": "code",
   "execution_count": null,
   "id": "graphic-secretariat",
   "metadata": {},
   "outputs": [],
   "source": [
    "import matplotlib.pyplot as plt\n",
    "from matplotlib.ticker import AutoMinorLocator\n",
    "import numpy as np\n",
    "\n",
    "from summer2 import CompartmentalModel\n",
    "from summer2.parameters import Parameter, DerivedOutput"
   ]
  },
  {
   "cell_type": "code",
   "execution_count": null,
   "id": "2bdd758d-723c-4f81-b401-ba42ee3e8d78",
   "metadata": {},
   "outputs": [],
   "source": [
    "config = {\n",
    "    \"tot_popn\": 156400.,\n",
    "    \"C_0\": 6400.,\n",
    "    \"end_time\": 21. * 52.,\n",
    "    \"t_step\": 3.,\n",
    "}\n",
    "\n",
    "parameters = {\n",
    "    \"k\": 1. / 150000.,\n",
    "    \"ave_infous\": 3.,\n",
    "    \"birth\": 1100.,\n",
    "}"
   ]
  },
  {
   "cell_type": "code",
   "execution_count": null,
   "id": "1309e142-4b3b-4970-b7a5-51dbf72ef9d9",
   "metadata": {},
   "outputs": [],
   "source": [
    "def build_si_model(\n",
    "    model_config: dict,\n",
    ") -> CompartmentalModel:\n",
    "\n",
    "    # Model characteristics\n",
    "    compartments = (\"Susceptible\", \"Infectious\")\n",
    "    model = CompartmentalModel(\n",
    "        times=(0, model_config[\"end_time\"]),\n",
    "        compartments=compartments,\n",
    "        infectious_compartments=[\"Infectious\"],\n",
    "        timestep=model_config[\"t_step\"],\n",
    "    )\n",
    "    model.set_initial_population(\n",
    "        distribution={\n",
    "            \"Susceptible\": model_config[\"tot_popn\"] - model_config[\"C_0\"],\n",
    "            \"Infectious\": model_config[\"C_0\"],\n",
    "        }\n",
    "    )\n",
    "    \n",
    "    # Transitions\n",
    "    model.add_infection_density_flow(\n",
    "        name=\"infection\", \n",
    "        contact_rate=Parameter(\"k\"),\n",
    "        source=\"Susceptible\", \n",
    "        dest=\"Infectious\",\n",
    "    )\n",
    "    model.add_death_flow(\n",
    "        name=\"infection_death\",\n",
    "        death_rate=1. / Parameter(\"ave_infous\"),\n",
    "        source=\"Infectious\",\n",
    "    )\n",
    "    model.add_importation_flow(\n",
    "        name=\"birth\",\n",
    "        num_imported=Parameter(\"birth\"),\n",
    "        dest=\"Susceptible\",\n",
    "        split_imports=True,\n",
    "    )\n",
    "\n",
    "    # Outputs\n",
    "    model.request_output_for_compartments(\n",
    "        name=\"total_population\",\n",
    "        compartments=compartments,\n",
    "        save_results=False,\n",
    "    )\n",
    "    model.request_output_for_compartments(\n",
    "        name=\"susceptible\",\n",
    "        compartments=(\"Susceptible\",),\n",
    "        save_results=False,\n",
    "    )\n",
    "    model.request_function_output(\n",
    "        name=\"susc_prop\",\n",
    "        func=DerivedOutput(\"susceptible\") / DerivedOutput(\"total_population\"),\n",
    "    )\n",
    "    return model"
   ]
  },
  {
   "cell_type": "code",
   "execution_count": null,
   "id": "fc35b2db-47f1-4bf6-bd88-5c36df2f54ad",
   "metadata": {},
   "outputs": [],
   "source": [
    "si_model = build_si_model(config)\n",
    "si_model.run(parameters=parameters)\n",
    "compartment_values = si_model.get_outputs_df()\n",
    "derived_outputs = si_model.get_derived_outputs_df()"
   ]
  },
  {
   "cell_type": "markdown",
   "id": "a9bfd7d3-69ce-444c-8d97-c2170d001f0a",
   "metadata": {},
   "source": [
    "#### Unnumbered figure on the left"
   ]
  },
  {
   "cell_type": "code",
   "execution_count": null,
   "id": "arbitrary-finding",
   "metadata": {},
   "outputs": [],
   "source": [
    "fig, (left_ax, right_ax) = plt.subplots(1, 2, figsize=(14, 5))\n",
    "\n",
    "left_ax.plot(si_model.times, compartment_values[\"Infectious\"], color=\"r\", label=\"Susceptible\")\n",
    "left_ax.set_xlabel(\"Time (days)\")\n",
    "left_ax.set_xlim(0, 20 * 365)\n",
    "# left_ax.set_xticks(range(0, 21900, 3650))\n",
    "left_ax.xaxis.set_minor_locator(AutoMinorLocator(2))\n",
    "# left_ax.set_ylim(0., 1e5)\n",
    "# left_ax.set_ylabel(\"Number of susceptible or immune persons\")\n",
    "# left_ax.yaxis.set_minor_locator(AutoMinorLocator(5))\n",
    "# left_ax.spines.top.set_visible(False)\n",
    "# left_ax.legend()\n",
    "\n",
    "# twin_ax = left_ax.twinx()\n",
    "# twin_ax.set_ylim(0, 300.)\n",
    "# twin_ax.set_ylabel(\"Number of new infectious persons per time step\")\n",
    "# twin_ax.yaxis.set_minor_locator(AutoMinorLocator(2))\n",
    "# twin_ax.spines.top.set_visible(False)\n",
    "# twin_ax.legend(loc=6)\n",
    "\n",
    "# image = plt.imread(\"./figures/model_4_3a_fig.JPG\")\n",
    "# right_ax.axis(\"off\")\n",
    "# right_ax.imshow(image, aspect=\"auto\");"
   ]
  }
 ],
 "metadata": {
  "kernelspec": {
   "display_name": "Python 3 (ipykernel)",
   "language": "python",
   "name": "python3"
  },
  "language_info": {
   "codemirror_mode": {
    "name": "ipython",
    "version": 3
   },
   "file_extension": ".py",
   "mimetype": "text/x-python",
   "name": "python",
   "nbconvert_exporter": "python",
   "pygments_lexer": "ipython3",
   "version": "3.10.3"
  }
 },
 "nbformat": 4,
 "nbformat_minor": 5
}
