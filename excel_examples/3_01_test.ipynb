{
 "cells": [
  {
   "cell_type": "code",
   "execution_count": null,
   "id": "graphic-secretariat",
   "metadata": {},
   "outputs": [],
   "source": [
    "import pandas as pd\n",
    "\n",
    "from summer2 import CompartmentalModel\n",
    "from summer2.parameters import Parameter"
   ]
  },
  {
   "cell_type": "code",
   "execution_count": null,
   "id": "f3193301-77cc-49e7-a645-09c90bcdedbe",
   "metadata": {},
   "outputs": [],
   "source": [
    "measles_data = pd.read_csv(\n",
    "    \"./csvs/model_3_1_measles.csv\",\n",
    "    header=53,\n",
    "    index_col=0,\n",
    "    nrows=10001,\n",
    "    usecols=range(5),\n",
    ")"
   ]
  },
  {
   "cell_type": "code",
   "execution_count": null,
   "id": "3c82c223-4242-431f-9c70-e6e97c94c6e5",
   "metadata": {},
   "outputs": [],
   "source": [
    "flu_data = pd.read_csv(\n",
    "    \"./csvs/model_3_1_flu.csv\",\n",
    "    header=53,\n",
    "    index_col=0,\n",
    "    nrows=10001,\n",
    "    usecols=range(5),\n",
    ")"
   ]
  },
  {
   "cell_type": "code",
   "execution_count": null,
   "id": "2e3e32cf-019b-488e-8c9f-310317b75fc3",
   "metadata": {},
   "outputs": [],
   "source": [
    "def build_seir_model(\n",
    "    config: dict,\n",
    ") -> CompartmentalModel:\n",
    "    \n",
    "    # Model characteristics\n",
    "    compartments = (\n",
    "        \"Susceptible\", \n",
    "        \"Pre-infectious\", \n",
    "        \"Infectious\", \n",
    "        \"Immune\",\n",
    "    )\n",
    "    model = CompartmentalModel(\n",
    "        times=(0., config[\"end_time\"]),\n",
    "        compartments=compartments,\n",
    "        infectious_compartments=[\"Infectious\"],\n",
    "    )\n",
    "    model.set_initial_population(\n",
    "        distribution={\n",
    "            \"Susceptible\": config[\"tot_popn\"] - config[\"infectious_seed\"],\n",
    "            \"Infectious\": config[\"infectious_seed\"],\n",
    "        }\n",
    "    )\n",
    "    \n",
    "    # Transitions\n",
    "    ave_infous = Parameter(\"ave_infous\")\n",
    "    model.add_infection_frequency_flow(\n",
    "        name=\"infection\", \n",
    "        contact_rate=Parameter(\"r0\") / ave_infous,\n",
    "        source=\"Susceptible\",\n",
    "        dest=\"Pre-infectious\"\n",
    "    )\n",
    "    model.add_transition_flow(\n",
    "        name=\"progression\", \n",
    "        fractional_rate=1. / Parameter(\"ave_preinfous\"),\n",
    "        source=\"Pre-infectious\", \n",
    "        dest=\"Infectious\"\n",
    "    )\n",
    "    model.add_transition_flow(\n",
    "        name=\"recovery\", \n",
    "        fractional_rate=1. / ave_infous,\n",
    "        source=\"Infectious\", \n",
    "        dest=\"Immune\"\n",
    "    )\n",
    "    return model"
   ]
  },
  {
   "cell_type": "code",
   "execution_count": null,
   "id": "3bf5c763-737d-4b7a-87cc-a26b867aa447",
   "metadata": {},
   "outputs": [],
   "source": [
    "model_config = {\n",
    "    \"tot_popn\": 1e5,\n",
    "    \"infectious_seed\": 1.,\n",
    "    \"end_time\": 10000.,\n",
    "}\n",
    "\n",
    "parameters = {\n",
    "    \"r0\": 2.,\n",
    "    \"ave_infous\": 2.,\n",
    "    \"ave_preinfous\": 2.,\n",
    "}"
   ]
  },
  {
   "cell_type": "code",
   "execution_count": null,
   "id": "94fa78c2-90b5-4b39-8d46-b5c354c01513",
   "metadata": {},
   "outputs": [],
   "source": [
    "measles_model = build_seir_model(model_config)\n",
    "measles_model.run(parameters)\n",
    "measles_values = measles_model.get_outputs_df()"
   ]
  },
  {
   "cell_type": "code",
   "execution_count": null,
   "id": "c3835d4e-17e0-40e2-b924-0afeedc0dbcd",
   "metadata": {},
   "outputs": [],
   "source": [
    "assert abs(measles_data - measles_values).max().max() < 1e5"
   ]
  },
  {
   "cell_type": "code",
   "execution_count": null,
   "id": "fcfa24af-a86f-4016-9d4d-392603ba59f3",
   "metadata": {},
   "outputs": [],
   "source": [
    "parameters = {\n",
    "    \"r0\": 13.,\n",
    "    \"ave_preinfous\": 8.,\n",
    "    \"ave_infous\": 7.,\n",
    "}\n",
    "flu_model = build_seir_model(model_config)\n",
    "flu_model.run(parameters=parameters)\n",
    "flu_values = flu_model.get_outputs_df()"
   ]
  },
  {
   "cell_type": "code",
   "execution_count": null,
   "id": "2c180146-5043-48d3-8934-2e458cfc3c0a",
   "metadata": {},
   "outputs": [],
   "source": [
    "assert abs(flu_data - flu_values).max().max() < 1e5"
   ]
  }
 ],
 "metadata": {
  "kernelspec": {
   "display_name": "Python 3 (ipykernel)",
   "language": "python",
   "name": "python3"
  },
  "language_info": {
   "codemirror_mode": {
    "name": "ipython",
    "version": 3
   },
   "file_extension": ".py",
   "mimetype": "text/x-python",
   "name": "python",
   "nbconvert_exporter": "python",
   "pygments_lexer": "ipython3",
   "version": "3.10.3"
  }
 },
 "nbformat": 4,
 "nbformat_minor": 5
}
