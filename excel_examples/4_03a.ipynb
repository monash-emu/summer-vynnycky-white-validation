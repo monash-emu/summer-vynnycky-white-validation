{
 "cells": [
  {
   "cell_type": "code",
   "execution_count": null,
   "id": "graphic-secretariat",
   "metadata": {},
   "outputs": [],
   "source": [
    "import matplotlib.pyplot as plt\n",
    "from matplotlib.ticker import AutoMinorLocator\n",
    "\n",
    "from summer2 import CompartmentalModel\n",
    "from summer2.parameters import Parameter"
   ]
  },
  {
   "cell_type": "code",
   "execution_count": null,
   "id": "2bdd758d-723c-4f81-b401-ba42ee3e8d78",
   "metadata": {},
   "outputs": [],
   "source": [
    "config = {\n",
    "    \"tot_popn\": 1e5,\n",
    "    \"infous_0\": 2.,\n",
    "    \"end_time\": 120.,\n",
    "    \"t_step\": 1.,\n",
    "    \"prop_immune_0\": 0.3,\n",
    "    \"end_time\": 100.,\n",
    "}\n",
    "\n",
    "parameters = {\n",
    "    \"r0\": 13.,\n",
    "    \"ave_preinfous\": 8.,\n",
    "    \"ave_infous\": 7.,\n",
    "    \"life_expectancy\": 70.,\n",
    "}"
   ]
  },
  {
   "cell_type": "code",
   "execution_count": null,
   "id": "1309e142-4b3b-4970-b7a5-51dbf72ef9d9",
   "metadata": {},
   "outputs": [],
   "source": [
    "def build_seir_model(\n",
    "    model_config: dict,\n",
    ") -> CompartmentalModel:\n",
    "\n",
    "    # Model characteristics\n",
    "    compartments = (\"Susceptible\", \"Pre-infectious\", \"Infectious\", \"Immune\")\n",
    "    model = CompartmentalModel(\n",
    "        times=(0, model_config[\"end_time\"] * 365.),\n",
    "        compartments=compartments,\n",
    "        infectious_compartments=[\"Infectious\"],\n",
    "        timestep=model_config[\"t_step\"],\n",
    "    )\n",
    "    model.set_initial_population(\n",
    "        distribution={\n",
    "            \"Susceptible\": model_config[\"tot_popn\"] - model_config[\"infous_0\"],\n",
    "            \"Infectious\": model_config[\"infous_0\"],\n",
    "        }\n",
    "    )\n",
    "    \n",
    "    # Transitions\n",
    "    model.add_infection_frequency_flow(\n",
    "        name=\"infection\", \n",
    "        contact_rate=Parameter(\"r0\") / Parameter(\"ave_infous\"),\n",
    "        source=\"Susceptible\", \n",
    "        dest=\"Pre-infectious\",\n",
    "    )\n",
    "    model.add_transition_flow(\n",
    "        name=\"progression\", \n",
    "        fractional_rate=1. / Parameter(\"ave_preinfous\"),\n",
    "        source=\"Pre-infectious\", \n",
    "        dest=\"Infectious\",\n",
    "    )\n",
    "    model.add_transition_flow(\n",
    "        name=\"recovery\", \n",
    "        fractional_rate=1. / Parameter(\"ave_infous\"), \n",
    "        source=\"Infectious\", \n",
    "        dest=\"Immune\",\n",
    "    )\n",
    "    model.add_universal_death_flows(\n",
    "        \"universal_death\",\n",
    "        death_rate=1. / Parameter(\"life_expectancy\") / 365.,\n",
    "    )\n",
    "    model.add_replacement_birth_flow(\n",
    "        \"births\",\n",
    "        \"Susceptible\",\n",
    "    )\n",
    "\n",
    "    # Output\n",
    "    model.request_output_for_flow(\n",
    "        name=\"incidence\", \n",
    "        flow_name=\"progression\"\n",
    "    )\n",
    "    return model"
   ]
  },
  {
   "cell_type": "code",
   "execution_count": null,
   "id": "fc35b2db-47f1-4bf6-bd88-5c36df2f54ad",
   "metadata": {},
   "outputs": [],
   "source": [
    "seir_demog_model = build_seir_model(config)\n",
    "seir_demog_model.run(parameters=parameters)\n",
    "outputs = seir_demog_model.get_outputs_df()"
   ]
  },
  {
   "cell_type": "code",
   "execution_count": null,
   "id": "arbitrary-finding",
   "metadata": {},
   "outputs": [],
   "source": [
    "fig, (left_ax, right_ax) = plt.subplots(1, 2, figsize=(14, 5))\n",
    "\n",
    "left_ax.plot(seir_demog_model.times, outputs[\"Susceptible\"], color=\"navy\", label=\"Susceptible\")\n",
    "left_ax.plot(seir_demog_model.times, outputs[\"Immune\"], color=\"lime\", label=\"Immune\")\n",
    "left_ax.set_xlabel(\"Time (days)\")\n",
    "left_ax.set_xlim(0, 18250)\n",
    "left_ax.set_xticks(range(0, 21900, 3650))\n",
    "left_ax.xaxis.set_minor_locator(AutoMinorLocator(2))\n",
    "left_ax.set_ylim(0., 1e5)\n",
    "left_ax.set_ylabel(\"Number of susceptible or immune persons\")\n",
    "left_ax.yaxis.set_minor_locator(AutoMinorLocator(5))\n",
    "left_ax.spines.top.set_visible(False)\n",
    "left_ax.legend()\n",
    "\n",
    "twin_ax = left_ax.twinx()\n",
    "twin_ax.plot(seir_demog_model.times, seir_demog_model.derived_outputs[\"incidence\"], color=\"magenta\", label=\"a\")\n",
    "twin_ax.set_ylim(0, 300)\n",
    "twin_ax.set_ylabel(\"Number of new infectious persons per time step\")\n",
    "twin_ax.yaxis.set_minor_locator(AutoMinorLocator(2))\n",
    "twin_ax.spines.top.set_visible(False)\n",
    "twin_ax.legend(loc=4)\n",
    "\n",
    "image = plt.imread(\"./figures/model_4_3a_fig.JPG\")\n",
    "right_ax.axis(\"off\")\n",
    "right_ax.imshow(image, aspect=\"auto\");"
   ]
  },
  {
   "cell_type": "markdown",
   "id": "dramatic-explorer",
   "metadata": {},
   "source": [
    "### Figure 1"
   ]
  },
  {
   "cell_type": "code",
   "execution_count": null,
   "id": "following-event",
   "metadata": {},
   "outputs": [],
   "source": [
    "fig, ax = plt.subplots(1, 1, dpi=120)\n",
    "\n",
    "# Reset a couple of parameters that had changed\n",
    "total_population = 1e5\n",
    "r0 = 13\n",
    "prop_susceptible = [i_sus / total_population for i_sus in seir_demog_model.outputs.T[0]]\n",
    "prop_immune = [i_imm / total_population for i_imm in seir_demog_model.outputs.T[-1]]\n",
    "rn = [i_prop_sus * r0 for i_prop_sus in prop_susceptible]\n",
    "ax.plot(seir_demog_model.times, rn)\n",
    "ax.set_ylim(0.5, 1.5)\n",
    "ax.set_ylabel(\"Rn\")\n",
    "ax.set_xlabel(\"Time (days)\")\n",
    "\n",
    "right_ax = ax.twinx()\n",
    "right_ax.plot(seir_demog_model.times, seir_demog_model.derived_outputs[\"incidence\"], color=\"purple\")\n",
    "right_ax.set_xlim((40 * 365, 50 * 365))\n",
    "right_ax.set_ylim(0, 20)\n",
    "right_ax.set_ylabel(\"Number of new infectious persons/day\")"
   ]
  },
  {
   "cell_type": "markdown",
   "id": "precise-poison",
   "metadata": {},
   "source": [
    "### Figure 2 (marked as 3)"
   ]
  },
  {
   "cell_type": "code",
   "execution_count": null,
   "id": "collect-omega",
   "metadata": {},
   "outputs": [],
   "source": [
    "ax.plot(seir_demog_model.times, prop_susceptible, color=\"navy\")\n",
    "ax.set_ylim(0.04, 0.12)\n",
    "ax.set_ylabel(\"Proportion susceptible\")\n",
    "fig"
   ]
  },
  {
   "cell_type": "markdown",
   "id": "solar-birth",
   "metadata": {},
   "source": [
    "### Figure 3"
   ]
  },
  {
   "cell_type": "code",
   "execution_count": null,
   "id": "equal-jones",
   "metadata": {},
   "outputs": [],
   "source": [
    "fig, ax = plt.subplots(1, 1, dpi=120)  # Need a new set of axes because too many lines now overlapping\n",
    "\n",
    "ax.plot(seir_demog_model.times, prop_immune, color=\"green\")\n",
    "ax.set_ylim(0.88, 0.96)\n",
    "ax.set_ylabel(\"Proportion immune\")\n",
    "\n",
    "right_ax = ax.twinx()\n",
    "right_ax.plot(seir_demog_model.times, seir_demog_model.derived_outputs[\"incidence\"], color=\"purple\")\n",
    "right_ax.set_xlim((40 * 365, 50 * 365))\n",
    "right_ax.set_ylim((0, 20))\n",
    "right_ax.set_ylabel(\"Number of new infectious persons/day\")"
   ]
  }
 ],
 "metadata": {
  "kernelspec": {
   "display_name": "Python 3 (ipykernel)",
   "language": "python",
   "name": "python3"
  },
  "language_info": {
   "codemirror_mode": {
    "name": "ipython",
    "version": 3
   },
   "file_extension": ".py",
   "mimetype": "text/x-python",
   "name": "python",
   "nbconvert_exporter": "python",
   "pygments_lexer": "ipython3",
   "version": "3.10.3"
  }
 },
 "nbformat": 4,
 "nbformat_minor": 5
}
