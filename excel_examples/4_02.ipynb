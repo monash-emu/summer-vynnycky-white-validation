{
 "cells": [
  {
   "cell_type": "code",
   "execution_count": null,
   "id": "graphic-secretariat",
   "metadata": {},
   "outputs": [],
   "source": [
    "import matplotlib.pyplot as plt\n",
    "from matplotlib.ticker import AutoMinorLocator\n",
    "\n",
    "from summer2 import CompartmentalModel\n",
    "from summer2.parameters import Parameter, DerivedOutput"
   ]
  },
  {
   "cell_type": "code",
   "execution_count": null,
   "id": "decent-canvas",
   "metadata": {},
   "outputs": [],
   "source": [
    "def build_seir_model(\n",
    "    config: dict,\n",
    ") -> CompartmentalModel:\n",
    "    \n",
    "    # Model characteristics\n",
    "    compartments = (\"Susceptible\", \"Pre-infectious\", \"Infectious\", \"Immune\")\n",
    "    model = CompartmentalModel(\n",
    "        times=(0., config[\"end_time\"]),\n",
    "        compartments=compartments,\n",
    "        infectious_compartments=[\"Infectious\"],\n",
    "        timestep=config[\"t_step\"],\n",
    "    )\n",
    "    n_immune_0 = config[\"prop_immune_0\"] * config[\"tot_popn\"]\n",
    "    model.set_initial_population(\n",
    "        distribution={\n",
    "            \"Susceptible\": config[\"tot_popn\"] - config[\"infous_0\"] - n_immune_0, \n",
    "            \"Infectious\": config[\"infous_0\"],\n",
    "            \"Immune\": n_immune_0,\n",
    "        }\n",
    "    )\n",
    "    \n",
    "    # Transitions\n",
    "    ave_infous = Parameter(\"ave_infous\")\n",
    "    model.add_infection_frequency_flow(\n",
    "        name=\"infection\", \n",
    "        contact_rate=Parameter(\"r0\") / ave_infous,\n",
    "        source=\"Susceptible\",\n",
    "        dest=\"Pre-infectious\"\n",
    "    )\n",
    "    model.add_transition_flow(\n",
    "        name=\"progression\", \n",
    "        fractional_rate=1. / Parameter(\"ave_preinfous\"),\n",
    "        source=\"Pre-infectious\", \n",
    "        dest=\"Infectious\"\n",
    "    )\n",
    "    model.add_transition_flow(\n",
    "        name=\"recovery\", \n",
    "        fractional_rate=1. / ave_infous,\n",
    "        source=\"Infectious\", \n",
    "        dest=\"Immune\"\n",
    "    )\n",
    "    \n",
    "    # Outputs\n",
    "    model.request_output_for_flow(\n",
    "        name=\"incidence\", \n",
    "        flow_name=\"progression\"\n",
    "    )\n",
    "    model.request_function_output(\n",
    "        name=\"incidence_per_tstep\",\n",
    "        func=DerivedOutput(\"incidence\") * config[\"t_step\"],\n",
    "    )\n",
    "    \n",
    "    return model"
   ]
  },
  {
   "cell_type": "code",
   "execution_count": null,
   "id": "398168cf-6ff3-4a94-ab19-6dffa8297c1d",
   "metadata": {},
   "outputs": [],
   "source": [
    "model_config = {\n",
    "    \"tot_popn\": 5234.,\n",
    "    \"infous_0\": 2.,\n",
    "    \"end_time\": 120.,\n",
    "    \"t_step\": 0.5,\n",
    "    \"prop_immune_0\": 0.3,\n",
    "}\n",
    "\n",
    "parameters = {\n",
    "    \"r0\": 2.1,\n",
    "    \"ave_preinfous\": 2.,\n",
    "    \"ave_infous\": 2.,\n",
    "    \"life_expectancy\": 70.,\n",
    "}"
   ]
  },
  {
   "cell_type": "code",
   "execution_count": null,
   "id": "mediterranean-accuracy",
   "metadata": {},
   "outputs": [],
   "source": [
    "seir_model_part_immune = build_seir_model(model_config)\n",
    "seir_model_part_immune.run(parameters=parameters)\n",
    "compartment_values = seir_model_part_immune.get_outputs_df()\n",
    "derived_outputs = seir_model_part_immune.get_derived_outputs_df()"
   ]
  },
  {
   "cell_type": "code",
   "execution_count": null,
   "id": "psychological-central",
   "metadata": {},
   "outputs": [],
   "source": [
    "fig, (left_ax, right_ax) = plt.subplots(1, 2, figsize=(14, 5))\n",
    "\n",
    "left_ax.plot(seir_model_part_immune.times, compartment_values[\"Susceptible\"], color=\"navy\", label=\"Susceptible\")\n",
    "left_ax.plot(seir_model_part_immune.times, compartment_values[\"Immune\"], color=\"lime\", linestyle=\"--\", label=\"Immune\")\n",
    "left_ax.set_xlim(0., 120.)\n",
    "left_ax.set_xlabel(\"Time (days)\")\n",
    "left_ax.set_ylim(0., 5400.)\n",
    "left_ax.set_ylabel(\"Number of susceptible or immune individuals\")\n",
    "left_ax.legend()\n",
    "left_ax.spines.top.set_visible(False)\n",
    "left_ax.xaxis.set_minor_locator(AutoMinorLocator(5))\n",
    "\n",
    "twin_ax = left_ax.twinx()\n",
    "twin_ax.plot(seir_model_part_immune.times, derived_outputs[\"incidence_per_tstep\"], color=\"magenta\", linestyle=\"--\", label=\"New infectious persons\")\n",
    "twin_ax.set_ylim(0., 1e2)\n",
    "twin_ax.set_yticks(range(0, 150, 50))\n",
    "twin_ax.set_ylabel(\"Number of new infectious persons/time step\")\n",
    "twin_ax.legend(loc=5)\n",
    "twin_ax.spines.top.set_visible(False)\n",
    "\n",
    "image = plt.imread(\"./figures/model_4_2_fig.JPG\")\n",
    "right_ax.axis(\"off\")\n",
    "right_ax.imshow(image, aspect=\"auto\");"
   ]
  }
 ],
 "metadata": {
  "kernelspec": {
   "display_name": "Python 3 (ipykernel)",
   "language": "python",
   "name": "python3"
  },
  "language_info": {
   "codemirror_mode": {
    "name": "ipython",
    "version": 3
   },
   "file_extension": ".py",
   "mimetype": "text/x-python",
   "name": "python",
   "nbconvert_exporter": "python",
   "pygments_lexer": "ipython3",
   "version": "3.10.4"
  }
 },
 "nbformat": 4,
 "nbformat_minor": 5
}
