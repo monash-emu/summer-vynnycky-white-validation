{
 "cells": [
  {
   "cell_type": "code",
   "execution_count": null,
   "id": "graphic-secretariat",
   "metadata": {},
   "outputs": [],
   "source": [
    "import matplotlib.pyplot as plt\n",
    "from matplotlib.ticker import AutoMinorLocator\n",
    "\n",
    "from summer2 import CompartmentalModel\n",
    "from summer2.parameters import Parameter"
   ]
  },
  {
   "cell_type": "code",
   "execution_count": null,
   "id": "2e3e32cf-019b-488e-8c9f-310317b75fc3",
   "metadata": {},
   "outputs": [],
   "source": [
    "def build_seir_model(\n",
    "    config: dict,\n",
    ") -> CompartmentalModel:\n",
    "    \n",
    "    # Model characteristics\n",
    "    compartments = (\n",
    "        \"Susceptible\", \n",
    "        \"Pre-infectious\", \n",
    "        \"Infectious\", \n",
    "        \"Immune\",\n",
    "    )\n",
    "    model = CompartmentalModel(\n",
    "        times=(0., config[\"end_time\"]),\n",
    "        compartments=compartments,\n",
    "        infectious_compartments=[\"Infectious\"],\n",
    "    )\n",
    "    model.set_initial_population(\n",
    "        distribution={\n",
    "            \"Susceptible\": config[\"tot_popn\"] - config[\"infectious_seed\"],\n",
    "            \"Infectious\": config[\"infectious_seed\"],\n",
    "        }\n",
    "    )\n",
    "    \n",
    "    # Transitions\n",
    "    ave_infous = Parameter(\"ave_infous\")\n",
    "    model.add_infection_frequency_flow(\n",
    "        name=\"infection\", \n",
    "        contact_rate=Parameter(\"r0\") / ave_infous,\n",
    "        source=\"Susceptible\",\n",
    "        dest=\"Pre-infectious\"\n",
    "    )\n",
    "    model.add_transition_flow(\n",
    "        name=\"progression\", \n",
    "        fractional_rate=1. / Parameter(\"ave_preinfous\"),\n",
    "        source=\"Pre-infectious\", \n",
    "        dest=\"Infectious\"\n",
    "    )\n",
    "    model.add_transition_flow(\n",
    "        name=\"recovery\", \n",
    "        fractional_rate=1. / ave_infous,\n",
    "        source=\"Infectious\", \n",
    "        dest=\"Immune\"\n",
    "    )\n",
    "    \n",
    "    # Outputs\n",
    "    model.request_output_for_flow(\n",
    "        name=\"incidence\", \n",
    "        flow_name=\"progression\"\n",
    "    )\n",
    "    model.request_output_for_flow(\n",
    "        name=\"infection\", \n",
    "        flow_name=\"infection\"\n",
    "    )\n",
    "    \n",
    "    return model"
   ]
  },
  {
   "cell_type": "code",
   "execution_count": null,
   "id": "3bf5c763-737d-4b7a-87cc-a26b867aa447",
   "metadata": {},
   "outputs": [],
   "source": [
    "model_config = {\n",
    "    \"tot_popn\": 1e5,\n",
    "    \"infectious_seed\": 1.,\n",
    "    \"end_time\": 200.,\n",
    "}\n",
    "\n",
    "parameters = {\n",
    "    \"r0\": 2.,\n",
    "    \"ave_infous\": 2.,\n",
    "    \"ave_preinfous\": 2.,\n",
    "}"
   ]
  },
  {
   "cell_type": "code",
   "execution_count": null,
   "id": "94fa78c2-90b5-4b39-8d46-b5c354c01513",
   "metadata": {},
   "outputs": [],
   "source": [
    "seir_model = build_seir_model(model_config)\n",
    "seir_model.run(parameters)\n",
    "compartment_values = seir_model.get_outputs_df()"
   ]
  },
  {
   "cell_type": "code",
   "execution_count": null,
   "id": "practical-lightweight",
   "metadata": {},
   "outputs": [],
   "source": [
    "fig, (left_ax, right_ax) = plt.subplots(1, 2, figsize=(14, 5))\n",
    "\n",
    "left_ax.plot(\n",
    "    seir_model.times, \n",
    "    compartment_values[\"Infectious\"], \n",
    "    color=\"red\",\n",
    ")\n",
    "left_ax.set_xlim(0., 1e2)\n",
    "left_ax.xaxis.set_minor_locator(AutoMinorLocator(5))\n",
    "left_ax.set_xlabel(\"Time (days)\")\n",
    "left_ax.set_ylim(0., 2e4)\n",
    "left_ax.set_yticks(range(0, 25000, 5000))\n",
    "left_ax.yaxis.set_minor_locator(AutoMinorLocator(5))\n",
    "left_ax.set_ylabel(\"Number of infectious persons\")\n",
    "left_ax.spines.top.set_visible(False)\n",
    "left_ax.spines.right.set_visible(False)\n",
    "\n",
    "image = plt.imread(\"./figures/model_3_1_fig_flu.JPG\")\n",
    "right_ax.axis(\"off\")\n",
    "right_ax.imshow(image, aspect=\"auto\");"
   ]
  },
  {
   "cell_type": "code",
   "execution_count": null,
   "id": "fcfa24af-a86f-4016-9d4d-392603ba59f3",
   "metadata": {},
   "outputs": [],
   "source": [
    "parameters = {\n",
    "    \"r0\": 13.,\n",
    "    \"ave_preinfous\": 8.,\n",
    "    \"ave_infous\": 7.,\n",
    "}\n",
    "seir_model.run(parameters=parameters)"
   ]
  },
  {
   "cell_type": "code",
   "execution_count": null,
   "id": "785e3d48-c08f-4a52-9484-1029ed00887e",
   "metadata": {},
   "outputs": [],
   "source": [
    "fig, (left_ax, right_ax) = plt.subplots(1, 2, figsize=(14, 5))\n",
    "\n",
    "left_ax.plot(\n",
    "    seir_model.times, \n",
    "    seir_model.get_outputs_df()[\"Infectious\"], \n",
    "    color=\"red\",\n",
    ")\n",
    "left_ax.set_xlim(0., 1e2)\n",
    "left_ax.xaxis.set_minor_locator(AutoMinorLocator(5))\n",
    "left_ax.set_xlabel(\"Time (days)\")\n",
    "left_ax.set_ylim(0., 5e4)\n",
    "left_ax.set_yticks(range(0, 60000, 10000))\n",
    "left_ax.yaxis.set_minor_locator(AutoMinorLocator(5))\n",
    "left_ax.set_ylabel(\"Number of infectious persons\")\n",
    "left_ax.spines.top.set_visible(False)\n",
    "left_ax.spines.right.set_visible(False)\n",
    "\n",
    "image = plt.imread(\"./figures/model_3_1_fig_measles.JPG\")\n",
    "right_ax.axis(\"off\")\n",
    "right_ax.imshow(image, aspect=\"auto\");"
   ]
  }
 ],
 "metadata": {
  "kernelspec": {
   "display_name": "Python 3 (ipykernel)",
   "language": "python",
   "name": "python3"
  },
  "language_info": {
   "codemirror_mode": {
    "name": "ipython",
    "version": 3
   },
   "file_extension": ".py",
   "mimetype": "text/x-python",
   "name": "python",
   "nbconvert_exporter": "python",
   "pygments_lexer": "ipython3",
   "version": "3.10.3"
  }
 },
 "nbformat": 4,
 "nbformat_minor": 5
}
