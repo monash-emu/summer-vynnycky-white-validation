{
 "cells": [
  {
   "cell_type": "code",
   "execution_count": null,
   "id": "graphic-secretariat",
   "metadata": {},
   "outputs": [],
   "source": [
    "import pandas as pd\n",
    "\n",
    "from summer2 import CompartmentalModel\n",
    "from summer2.parameters import Parameter, DerivedOutput"
   ]
  },
  {
   "cell_type": "code",
   "execution_count": null,
   "id": "459593da-9f64-4bb8-afc9-cdff597eab2d",
   "metadata": {},
   "outputs": [],
   "source": [
    "seir_data = pd.read_csv(\n",
    "    \"./csvs/model_4_3a.csv\",\n",
    "    index_col=0,\n",
    ")"
   ]
  },
  {
   "cell_type": "code",
   "execution_count": null,
   "id": "1309e142-4b3b-4970-b7a5-51dbf72ef9d9",
   "metadata": {},
   "outputs": [],
   "source": [
    "config = {\n",
    "    \"tot_popn\": 1e5,\n",
    "    \"infous_0\": 1.,\n",
    "    \"end_time\": 18250.,\n",
    "    \"t_step\": 1.,\n",
    "    \"prop_immune_0\": 0.3,\n",
    "}\n",
    "compartments = (\"Susceptible\", \"Pre-infectious\", \"Infectious\", \"Immune\")\n",
    "model = CompartmentalModel(\n",
    "    times=(0, config[\"end_time\"]),\n",
    "    compartments=compartments,\n",
    "    infectious_compartments=[\"Infectious\"],\n",
    "    timestep=config[\"t_step\"],\n",
    ")\n",
    "model.set_initial_population(\n",
    "    distribution={\n",
    "        \"Susceptible\": config[\"tot_popn\"] - config[\"infous_0\"],\n",
    "        \"Infectious\": config[\"infous_0\"],\n",
    "    }\n",
    ")\n",
    "r0 = Parameter(\"r0\")\n",
    "ave_infous = Parameter(\"ave_infous\")\n",
    "model.add_infection_frequency_flow(\n",
    "    name=\"infection\", \n",
    "    contact_rate=r0 / ave_infous,\n",
    "    source=\"Susceptible\", \n",
    "    dest=\"Pre-infectious\",\n",
    ")\n",
    "model.add_transition_flow(\n",
    "    name=\"progression\", \n",
    "    fractional_rate=1. / Parameter(\"ave_preinfous\"),\n",
    "    source=\"Pre-infectious\", \n",
    "    dest=\"Infectious\",\n",
    ")\n",
    "model.add_transition_flow(\n",
    "    name=\"recovery\", \n",
    "    fractional_rate=1. / ave_infous,\n",
    "    source=\"Infectious\", \n",
    "    dest=\"Immune\",\n",
    ")\n",
    "model.add_universal_death_flows(\n",
    "    \"universal_death\",\n",
    "    death_rate=1. / Parameter(\"life_expectancy\") / 365.,\n",
    ")\n",
    "model.add_replacement_birth_flow(\n",
    "    \"births\",\n",
    "    \"Susceptible\",\n",
    ")\n",
    "parameters = {\n",
    "    \"r0\": 13.,\n",
    "    \"ave_preinfous\": 8.,\n",
    "    \"ave_infous\": 7.,\n",
    "    \"life_expectancy\": 70.,\n",
    "}\n",
    "model.run(parameters=parameters, solver=\"euler\")\n",
    "seir_values = model.get_outputs_df()\n",
    "assert abs(seir_data - seir_values).max().max() < 1e-5"
   ]
  }
 ],
 "metadata": {
  "kernelspec": {
   "display_name": "Python 3 (ipykernel)",
   "language": "python",
   "name": "python3"
  },
  "language_info": {
   "codemirror_mode": {
    "name": "ipython",
    "version": 3
   },
   "file_extension": ".py",
   "mimetype": "text/x-python",
   "name": "python",
   "nbconvert_exporter": "python",
   "pygments_lexer": "ipython3",
   "version": "3.10.3"
  }
 },
 "nbformat": 4,
 "nbformat_minor": 5
}
