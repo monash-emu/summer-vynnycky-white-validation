{
 "cells": [
  {
   "cell_type": "code",
   "execution_count": null,
   "id": "graphic-secretariat",
   "metadata": {},
   "outputs": [],
   "source": [
    "import numpy as np\n",
    "import pandas as pd\n",
    "\n",
    "from summer2 import CompartmentalModel\n",
    "from summer2.parameters import Parameter, DerivedOutput"
   ]
  },
  {
   "cell_type": "code",
   "execution_count": null,
   "id": "9bb1875e-aa70-4df7-b795-772bf94cb7b3",
   "metadata": {},
   "outputs": [],
   "source": [
    "relevant_columns = list(range(5))\n",
    "seir_data = pd.read_csv(\n",
    "    \"./csvs/model_2_1a.csv\",\n",
    "    header=53,\n",
    "    index_col=0,\n",
    "    nrows=1001,\n",
    "    usecols=relevant_columns,\n",
    ")"
   ]
  },
  {
   "cell_type": "code",
   "execution_count": null,
   "id": "f12de1c7-ec0e-4957-9c8d-33d90c10fb39",
   "metadata": {},
   "outputs": [],
   "source": [
    "relevant_columns = [0] + list(range(11, 14))\n",
    "sir_data = pd.read_csv(\n",
    "    \"./csvs/model_2_1a.csv\",\n",
    "    header=53,\n",
    "    index_col=0,\n",
    "    nrows=1001,\n",
    "    usecols=relevant_columns,\n",
    ")\n",
    "sir_data.columns = [i_col[:-2] for i_col in sir_data.columns]  # Get rid of the \".1\" at the end from duplicate column names"
   ]
  },
  {
   "cell_type": "code",
   "execution_count": null,
   "id": "b1a24945-239d-48fb-afce-f9e7741af722",
   "metadata": {},
   "outputs": [],
   "source": [
    "def build_seir_model(\n",
    "    config: dict,\n",
    ") -> CompartmentalModel:\n",
    "    \n",
    "    # Model characteristics\n",
    "    compartments = (\n",
    "        \"Susceptible\", \n",
    "        \"Pre-infectious\", \n",
    "        \"Infectious\", \n",
    "        \"Immune\"\n",
    "    )\n",
    "    model = CompartmentalModel(\n",
    "        times=(0., config[\"end_time\"]),\n",
    "        compartments=compartments,\n",
    "        infectious_compartments=(\"Infectious\",),\n",
    "    )\n",
    "    model.set_initial_population(\n",
    "        distribution={\n",
    "            \"Susceptible\": config[\"tot_popn\"] - config[\"infectious_seed\"],\n",
    "            \"Infectious\": config[\"infectious_seed\"],\n",
    "        }\n",
    "    )\n",
    "\n",
    "    # Transitions\n",
    "    ave_infous = Parameter(\"ave_infous\")\n",
    "    model.add_infection_frequency_flow(\n",
    "        name=\"infection\", \n",
    "        contact_rate=Parameter(\"R0\") / ave_infous,\n",
    "        source=\"Susceptible\",\n",
    "        dest=\"Pre-infectious\"\n",
    "    )\n",
    "    model.add_transition_flow(\n",
    "        name=\"progression\", \n",
    "        fractional_rate=1. / Parameter(\"ave_preinfous\"),\n",
    "        source=\"Pre-infectious\", \n",
    "        dest=\"Infectious\"\n",
    "    )\n",
    "    model.add_transition_flow(\n",
    "        name=\"recovery\", \n",
    "        fractional_rate=1. / ave_infous,\n",
    "        source=\"Infectious\", \n",
    "        dest=\"Immune\"\n",
    "    )\n",
    "    return model"
   ]
  },
  {
   "cell_type": "code",
   "execution_count": null,
   "id": "d0a10b6d-9678-4963-9e0d-cb71d28f5b7c",
   "metadata": {},
   "outputs": [],
   "source": [
    "model_config = {\n",
    "    \"tot_popn\": 1e5,\n",
    "    \"infectious_seed\": 1.,\n",
    "    \"end_time\": 1000.,\n",
    "}\n",
    "\n",
    "parameters = {\n",
    "    \"ave_preinfous\": 2.,\n",
    "    \"ave_infous\": 2.,\n",
    "    \"R0\": 2.,\n",
    "}"
   ]
  },
  {
   "cell_type": "code",
   "execution_count": null,
   "id": "understanding-wheat",
   "metadata": {},
   "outputs": [],
   "source": [
    "seir_model = build_seir_model(model_config)\n",
    "seir_model.run(parameters=parameters, solver=\"euler\")\n",
    "derived_outputs = seir_model.get_derived_outputs_df()\n",
    "outputs = seir_model.get_outputs_df()"
   ]
  },
  {
   "cell_type": "code",
   "execution_count": null,
   "id": "ac9e74f7-b96c-401e-9c42-e32a43f32c52",
   "metadata": {},
   "outputs": [],
   "source": [
    "assert abs(seir_data - outputs).max().max() < 1e5"
   ]
  },
  {
   "cell_type": "code",
   "execution_count": null,
   "id": "615f8a7c-a22f-4bb4-b056-8846ec424ad7",
   "metadata": {},
   "outputs": [],
   "source": [
    "def build_sir_model(\n",
    "    config: dict,\n",
    ") -> CompartmentalModel:\n",
    "    \n",
    "    # Model characteristics\n",
    "    compartments = (\"Susceptible\", \"Infectious\", \"Immune\")\n",
    "    model = CompartmentalModel(\n",
    "        times=(0., config[\"end_time\"]),\n",
    "        compartments=compartments,\n",
    "        infectious_compartments=[\"Infectious\"],\n",
    "    )\n",
    "    model.set_initial_population(\n",
    "        distribution={\n",
    "            \"Susceptible\": config[\"tot_popn\"] - config[\"infectious_seed\"],\n",
    "            \"Infectious\": config[\"infectious_seed\"],\n",
    "        }\n",
    "    )\n",
    "\n",
    "    # Transitions\n",
    "    model.add_infection_frequency_flow(\n",
    "        name=\"infection\", \n",
    "        contact_rate=Parameter(\"R0\") / Parameter(\"ave_infous\"),\n",
    "        source=\"Susceptible\", \n",
    "        dest=\"Infectious\"\n",
    "    )\n",
    "    model.add_transition_flow(\n",
    "        name=\"recovery\", \n",
    "        fractional_rate=1. / Parameter(\"ave_infous\"), \n",
    "        source=\"Infectious\", \n",
    "        dest=\"Immune\"\n",
    "    )\n",
    "    return model"
   ]
  },
  {
   "cell_type": "code",
   "execution_count": null,
   "id": "4b06b3f9-2e16-42ee-acc9-6c5449356832",
   "metadata": {},
   "outputs": [],
   "source": [
    "sir_model = build_sir_model(model_config)\n",
    "sir_model.run(parameters=parameters, solver=\"euler\")\n",
    "sir_compartments = sir_model.get_outputs_df()"
   ]
  },
  {
   "cell_type": "code",
   "execution_count": null,
   "id": "b35e4cf4-b09d-41e8-99ae-d1c9e5b06727",
   "metadata": {},
   "outputs": [],
   "source": [
    "abs(sir_data - sir_compartments).max().max() < 1e5"
   ]
  }
 ],
 "metadata": {
  "kernelspec": {
   "display_name": "Python 3 (ipykernel)",
   "language": "python",
   "name": "python3"
  },
  "language_info": {
   "codemirror_mode": {
    "name": "ipython",
    "version": 3
   },
   "file_extension": ".py",
   "mimetype": "text/x-python",
   "name": "python",
   "nbconvert_exporter": "python",
   "pygments_lexer": "ipython3",
   "version": "3.10.3"
  }
 },
 "nbformat": 4,
 "nbformat_minor": 5
}
