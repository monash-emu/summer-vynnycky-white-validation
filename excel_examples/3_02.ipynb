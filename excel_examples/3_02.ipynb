{
 "cells": [
  {
   "cell_type": "code",
   "execution_count": null,
   "id": "graphic-secretariat",
   "metadata": {},
   "outputs": [],
   "source": [
    "import matplotlib.pyplot as plt\n",
    "from matplotlib.ticker import AutoMinorLocator\n",
    "\n",
    "from summer2 import CompartmentalModel\n",
    "from summer2.parameters import Parameter"
   ]
  },
  {
   "cell_type": "code",
   "execution_count": null,
   "id": "3bf5c763-737d-4b7a-87cc-a26b867aa447",
   "metadata": {},
   "outputs": [],
   "source": [
    "config = {\n",
    "    \"tot_popn\": 1e5,\n",
    "    \"infectious_seed\": 1.,\n",
    "    \"end_time\": 100.,\n",
    "}\n",
    "\n",
    "parameters = {\n",
    "    \"r0\": 13.,\n",
    "    \"ave_preinfous\": 8.,\n",
    "    \"ave_infous\": 7.,\n",
    "    \"life_expectancy\": 70.,\n",
    "}"
   ]
  },
  {
   "cell_type": "code",
   "execution_count": null,
   "id": "isolated-academy",
   "metadata": {},
   "outputs": [],
   "source": [
    "def build_seir_demog_model(\n",
    "    model_config: dict,\n",
    ") -> CompartmentalModel:\n",
    "    \n",
    "    # Model characteristics\n",
    "    compartments = (\"Susceptible\", \"Pre-infectious\", \"Infectious\", \"Immune\")\n",
    "    model = CompartmentalModel(\n",
    "        times=(0, model_config[\"end_time\"] * 365.),\n",
    "        compartments=compartments,\n",
    "        infectious_compartments=[\"Infectious\"],\n",
    "    )\n",
    "    model.set_initial_population(\n",
    "        distribution={\n",
    "            \"Susceptible\": model_config[\"tot_popn\"] - model_config[\"infectious_seed\"],\n",
    "            \"Infectious\": model_config[\"infectious_seed\"],\n",
    "        }\n",
    "    )\n",
    "    \n",
    "    # Transitions\n",
    "    model.add_infection_frequency_flow(\n",
    "        name=\"infection\", \n",
    "        contact_rate=Parameter(\"r0\") / Parameter(\"ave_infous\"),\n",
    "        source=\"Susceptible\", \n",
    "        dest=\"Pre-infectious\"\n",
    "    )\n",
    "    model.add_transition_flow(\n",
    "        name=\"progression\", \n",
    "        fractional_rate=1. / Parameter(\"ave_preinfous\"),\n",
    "        source=\"Pre-infectious\", \n",
    "        dest=\"Infectious\"\n",
    "    )\n",
    "    model.add_transition_flow(\n",
    "        name=\"recovery\", \n",
    "        fractional_rate=1. / Parameter(\"ave_infous\"), \n",
    "        source=\"Infectious\", \n",
    "        dest=\"Immune\"\n",
    "    )\n",
    "    model.add_universal_death_flows(\n",
    "        \"universal_death\",\n",
    "        death_rate=1. / Parameter(\"life_expectancy\") / 365.\n",
    "    )\n",
    "    model.add_replacement_birth_flow(\n",
    "        \"births\",\n",
    "        \"Susceptible\"\n",
    "    )\n",
    "\n",
    "    # Output\n",
    "    model.request_output_for_flow(\n",
    "        name=\"incidence\", \n",
    "        flow_name=\"progression\"\n",
    "    )\n",
    "    return model"
   ]
  },
  {
   "cell_type": "code",
   "execution_count": null,
   "id": "lightweight-prize",
   "metadata": {},
   "outputs": [],
   "source": [
    "seir_demog_model = build_seir_demog_model(config)\n",
    "seir_demog_model.run(parameters=parameters, solver=\"euler\")"
   ]
  },
  {
   "cell_type": "code",
   "execution_count": null,
   "id": "engaged-mobile",
   "metadata": {},
   "outputs": [],
   "source": [
    "fig, (left_ax, right_ax) = plt.subplots(1, 2, figsize=(14, 5))\n",
    "\n",
    "left_ax.plot(seir_demog_model.times, seir_demog_model.outputs.T[0], color=\"navy\", label=\"Susceptible\")\n",
    "left_ax.plot(seir_demog_model.times, seir_demog_model.outputs.T[-1], color=\"green\", label=\"Immune\")\n",
    "left_ax.set_ylim(0, 1e5)\n",
    "left_ax.set_ylabel(\"Number of susceptible or immune persons\")\n",
    "left_ax.set_xlabel(\"Time (days)\")\n",
    "left_ax.legend(loc=1)\n",
    "left_ax.set_xlim(0., 36500.)\n",
    "left_ax.spines.top.set_visible(False)\n",
    "left_ax.yaxis.set_minor_locator(AutoMinorLocator(5))\n",
    "\n",
    "twin_ax = left_ax.twinx()\n",
    "twin_ax.plot()\n",
    "twin_ax.plot(seir_demog_model.times, seir_demog_model.derived_outputs[\"incidence\"], color=\"purple\", label=\"New infectious persons\")\n",
    "twin_ax.set_ylim(0, 300)\n",
    "twin_ax.set_ylabel(\"Number of new infectious persons per time step\")\n",
    "twin_ax.legend(loc=5)\n",
    "twin_ax.spines.top.set_visible(False)\n",
    "\n",
    "image = plt.imread(\"./figures/model_3_2_fig.JPG\")\n",
    "right_ax.axis(\"off\")\n",
    "right_ax.imshow(image, aspect=\"auto\");"
   ]
  }
 ],
 "metadata": {
  "kernelspec": {
   "display_name": "Python 3 (ipykernel)",
   "language": "python",
   "name": "python3"
  },
  "language_info": {
   "codemirror_mode": {
    "name": "ipython",
    "version": 3
   },
   "file_extension": ".py",
   "mimetype": "text/x-python",
   "name": "python",
   "nbconvert_exporter": "python",
   "pygments_lexer": "ipython3",
   "version": "3.10.4"
  }
 },
 "nbformat": 4,
 "nbformat_minor": 5
}
