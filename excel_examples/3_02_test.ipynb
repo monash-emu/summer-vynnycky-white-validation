{
 "cells": [
  {
   "cell_type": "code",
   "execution_count": null,
   "id": "graphic-secretariat",
   "metadata": {},
   "outputs": [],
   "source": [
    "import pandas as pd\n",
    "\n",
    "from summer2 import CompartmentalModel\n",
    "from summer2.parameters import Parameter"
   ]
  },
  {
   "cell_type": "code",
   "execution_count": null,
   "id": "49f6ad16-fd78-4f51-89e0-21ba4e9101a2",
   "metadata": {},
   "outputs": [],
   "source": [
    "demog_data = pd.read_csv(\n",
    "    \"./csvs/model_3_2.csv\",\n",
    "    header=53,\n",
    "    index_col=0,\n",
    "    nrows=36501,\n",
    "    usecols=range(5),\n",
    ")"
   ]
  },
  {
   "cell_type": "code",
   "execution_count": null,
   "id": "isolated-academy",
   "metadata": {},
   "outputs": [],
   "source": [
    "config = {\n",
    "    \"tot_popn\": 1e5,\n",
    "    \"infectious_seed\": 1.,\n",
    "    \"end_time\": 100.,\n",
    "}\n",
    "compartments = (\"Susceptible\", \"Pre-infectious\", \"Infectious\", \"Immune\")\n",
    "model = CompartmentalModel(\n",
    "    times=(0, config[\"end_time\"] * 365.),\n",
    "    compartments=compartments,\n",
    "    infectious_compartments=[\"Infectious\"],\n",
    ")\n",
    "model.set_initial_population(\n",
    "    distribution={\n",
    "        \"Susceptible\": config[\"tot_popn\"] - config[\"infectious_seed\"],\n",
    "        \"Infectious\": config[\"infectious_seed\"],\n",
    "    }\n",
    ")\n",
    "ave_infous = Parameter(\"ave_infous\")\n",
    "model.add_infection_frequency_flow(\n",
    "    name=\"infection\", \n",
    "    contact_rate=Parameter(\"r0\") / ave_infous,\n",
    "    source=\"Susceptible\", \n",
    "    dest=\"Pre-infectious\"\n",
    ")\n",
    "model.add_transition_flow(\n",
    "    name=\"progression\", \n",
    "    fractional_rate=1. / Parameter(\"ave_preinfous\"),\n",
    "    source=\"Pre-infectious\", \n",
    "    dest=\"Infectious\"\n",
    ")\n",
    "model.add_transition_flow(\n",
    "    name=\"recovery\", \n",
    "    fractional_rate=1. / ave_infous,\n",
    "    source=\"Infectious\", \n",
    "    dest=\"Immune\"\n",
    ")\n",
    "model.add_universal_death_flows(\n",
    "    \"universal_death\",\n",
    "    death_rate=1. / Parameter(\"life_expectancy\") / 365.\n",
    ")\n",
    "model.add_replacement_birth_flow(\n",
    "    \"births\",\n",
    "    \"Susceptible\"\n",
    ")\n",
    "parameters = {\n",
    "    \"r0\": 13.,\n",
    "    \"ave_preinfous\": 8.,\n",
    "    \"ave_infous\": 7.,\n",
    "    \"life_expectancy\": 70.,\n",
    "}\n",
    "model.run(parameters=parameters, solver=\"euler\")\n",
    "demog_values = model.get_outputs_df()\n",
    "assert abs(demog_data - demog_values).max().max() < 1e5"
   ]
  }
 ],
 "metadata": {
  "kernelspec": {
   "display_name": "Python 3 (ipykernel)",
   "language": "python",
   "name": "python3"
  },
  "language_info": {
   "codemirror_mode": {
    "name": "ipython",
    "version": 3
   },
   "file_extension": ".py",
   "mimetype": "text/x-python",
   "name": "python",
   "nbconvert_exporter": "python",
   "pygments_lexer": "ipython3",
   "version": "3.10.3"
  }
 },
 "nbformat": 4,
 "nbformat_minor": 5
}
