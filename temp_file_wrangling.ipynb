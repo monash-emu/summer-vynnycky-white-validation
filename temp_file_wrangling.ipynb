{
 "cells": [
  {
   "cell_type": "markdown",
   "id": "792245d3-655d-4872-b360-99796b7f0469",
   "metadata": {},
   "source": [
    "This is just a temporary file to output some of the Excel sheets to CSV for use in the summer2 repo,\n",
    "although we don't want the code living over there in summer2.\n",
    "This is just sitting here because it is where the Excel sheets are currently living."
   ]
  },
  {
   "cell_type": "code",
   "execution_count": null,
   "id": "d4a11e63-c383-4d3b-b8e3-0793c1f87cf7",
   "metadata": {},
   "outputs": [],
   "source": [
    "import pandas as pd"
   ]
  },
  {
   "cell_type": "code",
   "execution_count": null,
   "id": "8cbb06f1-a4ab-47f3-839e-0df4a94e9b5c",
   "metadata": {},
   "outputs": [],
   "source": [
    "model_2_1 = pd.read_excel(\"./excel_models/model 2.1.xlsx\", header=53, usecols=\"A:G\", index_col=0)\n",
    "model_2_1 = model_2_1.drop(\"time step\", axis=1)\n",
    "model_2_1.rename(columns={\"per time step\": \"Incidence\"}, inplace=True)\n",
    "model_2_1.to_csv(\"model_2_1.csv\")"
   ]
  }
 ],
 "metadata": {
  "kernelspec": {
   "display_name": "Python 3 (ipykernel)",
   "language": "python",
   "name": "python3"
  },
  "language_info": {
   "codemirror_mode": {
    "name": "ipython",
    "version": 3
   },
   "file_extension": ".py",
   "mimetype": "text/x-python",
   "name": "python",
   "nbconvert_exporter": "python",
   "pygments_lexer": "ipython3",
   "version": "3.10.3"
  }
 },
 "nbformat": 4,
 "nbformat_minor": 5
}
