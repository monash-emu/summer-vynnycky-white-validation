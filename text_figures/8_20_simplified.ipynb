{
 "cells": [
  {
   "cell_type": "code",
   "execution_count": null,
   "id": "ba4f5623-f0e8-4bf7-83bc-edadd58df061",
   "metadata": {},
   "outputs": [],
   "source": [
    "from jax import numpy as jnp\n",
    "import pandas as pd\n",
    "\n",
    "from summer2 import CompartmentalModel, Stratification, Multiply\n",
    "from summer2.parameters import Parameter, DerivedOutput, Function, Time"
   ]
  },
  {
   "cell_type": "code",
   "execution_count": null,
   "id": "9b44489f-d8a7-4c48-a881-7155508591d4",
   "metadata": {},
   "outputs": [],
   "source": [
    "def build_hiv_model(\n",
    "    config: dict,\n",
    "    stratify: bool,\n",
    ") -> CompartmentalModel:\n",
    "    \n",
    "    compartments = (\"Susceptible\",)\n",
    "    model = CompartmentalModel(\n",
    "        times=(0., config[\"end_time\"]),\n",
    "        compartments=compartments,\n",
    "        infectious_compartments=(),\n",
    "    )\n",
    "    model.set_initial_population(distribution={\"Susceptible\": config[\"total_population\"]})\n",
    "    \n",
    "    # This makes no difference\n",
    "    # model.add_universal_death_flows(\n",
    "    #     \"non_aids_mortality\",\n",
    "    #     1. / Parameter(\"expectancy_at_debut\"),\n",
    "    # )\n",
    "    model.add_replacement_birth_flow(\n",
    "        \"recruitment\",\n",
    "        \"Susceptible\",\n",
    "    )\n",
    "\n",
    "    # This makes the difference\n",
    "    if stratify:\n",
    "        activity_strata = [\"High\", \"Low\"]\n",
    "        activity_strat = Stratification(\n",
    "            \"activity\",\n",
    "            activity_strata,\n",
    "            compartments,\n",
    "        )\n",
    "        model.stratify_with(activity_strat)\n",
    "    \n",
    "    model.request_output_for_compartments(\n",
    "        \"total\",\n",
    "        compartments,\n",
    "    )\n",
    "    return model"
   ]
  },
  {
   "cell_type": "code",
   "execution_count": null,
   "id": "821475c3-4e5b-4bc9-a637-06fc33d6bb84",
   "metadata": {},
   "outputs": [],
   "source": [
    "model_config = {\n",
    "    \"total_population\": 1e4,\n",
    "    \"end_time\": 100.,\n",
    "}\n",
    "\n",
    "parameters = {\n",
    "    \"expectancy_at_debut\": 35.,\n",
    "}"
   ]
  },
  {
   "cell_type": "code",
   "execution_count": null,
   "id": "56ce85e4-aeec-44ec-8f1b-f28c9bf4ec77",
   "metadata": {},
   "outputs": [],
   "source": [
    "outputs = {}\n",
    "for stratify in [True, False]:\n",
    "    hiv_model = build_hiv_model(model_config, stratify=stratify)\n",
    "    hiv_model.run(parameters=parameters)\n",
    "    outputs[stratify] = hiv_model.get_derived_outputs_df()[\"total\"]"
   ]
  },
  {
   "cell_type": "code",
   "execution_count": null,
   "id": "76d83496-5ee1-49c7-88f0-11b9c9c63338",
   "metadata": {},
   "outputs": [],
   "source": [
    "pd.DataFrame.from_dict(outputs)"
   ]
  }
 ],
 "metadata": {
  "kernelspec": {
   "display_name": "Python 3 (ipykernel)",
   "language": "python",
   "name": "python3"
  },
  "language_info": {
   "codemirror_mode": {
    "name": "ipython",
    "version": 3
   },
   "file_extension": ".py",
   "mimetype": "text/x-python",
   "name": "python",
   "nbconvert_exporter": "python",
   "pygments_lexer": "ipython3",
   "version": "3.10.4"
  }
 },
 "nbformat": 4,
 "nbformat_minor": 5
}
