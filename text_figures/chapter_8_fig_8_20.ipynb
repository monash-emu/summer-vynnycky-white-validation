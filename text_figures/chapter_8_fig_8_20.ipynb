{
 "cells": [
  {
   "cell_type": "code",
   "execution_count": null,
   "id": "ba4f5623-f0e8-4bf7-83bc-edadd58df061",
   "metadata": {},
   "outputs": [],
   "source": [
    "from summer2 import CompartmentalModel\n",
    "from summer2.parameters import Parameter\n",
    "import numpy as np\n",
    "import matplotlib.pyplot as plt"
   ]
  },
  {
   "cell_type": "code",
   "execution_count": null,
   "id": "821475c3-4e5b-4bc9-a637-06fc33d6bb84",
   "metadata": {},
   "outputs": [],
   "source": [
    "# Parameterise\n",
    "population = 100000.\n",
    "latent_period = 8.\n",
    "infectious_period = 7.\n",
    "r0 = 13.\n",
    "infectious_seed = 1.\n",
    "\n",
    "parameters = {\n",
    "    \"contact_rate\": r0 / infectious_period,\n",
    "    \"infous_rate\": 1. / latent_period,\n",
    "    \"progression_rate\": 1. / infectious_period,\n",
    "    \"non_aids_mortality\": 1. / 35.,\n",
    "    \"aids_mortality_rate\": 1. / 10.,\n",
    "}"
   ]
  },
  {
   "cell_type": "code",
   "execution_count": null,
   "id": "9b44489f-d8a7-4c48-a881-7155508591d4",
   "metadata": {},
   "outputs": [],
   "source": [
    "# Create equivalent model\n",
    "def build_hiv_model():\n",
    "    compartments = (\n",
    "        \"Susceptible\", \n",
    "        \"Infectious\", \n",
    "        \"AIDS\"\n",
    "    )\n",
    "    model = CompartmentalModel(\n",
    "        times=(0., 100.),\n",
    "        compartments=compartments,\n",
    "        infectious_compartments=(\"Infectious\",),\n",
    "    )\n",
    "    model.set_initial_population(\n",
    "        distribution={\n",
    "            \"Susceptible\": population - infectious_seed, \n",
    "            \"Infectious\": infectious_seed\n",
    "        }\n",
    "    )\n",
    "    model.add_infection_frequency_flow(\n",
    "        name=\"infection\", \n",
    "        contact_rate=Parameter(\"contact_rate\"),\n",
    "        source=\"Susceptible\",\n",
    "        dest=\"Infectious\"\n",
    "    )\n",
    "    model.add_transition_flow(\n",
    "        name=\"progression\", \n",
    "        fractional_rate=Parameter(\"progression_rate\"), \n",
    "        source=\"Infectious\", \n",
    "        dest=\"AIDS\"\n",
    "    )\n",
    "    \n",
    "    model.add_universal_death_flows(\n",
    "        \"non_aids_mortality\",\n",
    "        Parameter(\"non_aids_mortality\"),\n",
    "    )\n",
    "    \n",
    "    model.add_replacement_birth_flow(\n",
    "        \"birth\",\n",
    "        \"Susceptible\",\n",
    "    )\n",
    "    \n",
    "    model.add_death_flow(\n",
    "        \"aids_mortality\",\n",
    "        Parameter(\"aids_mortality_rate\"),\n",
    "        \"AIDS\",\n",
    "    )\n",
    "    \n",
    "    return model"
   ]
  },
  {
   "cell_type": "code",
   "execution_count": null,
   "id": "5b7a5d89-49af-4c99-b12e-9e9117b5e3b8",
   "metadata": {},
   "outputs": [],
   "source": [
    "hiv_model.add_death_flow?"
   ]
  },
  {
   "cell_type": "code",
   "execution_count": null,
   "id": "56ce85e4-aeec-44ec-8f1b-f28c9bf4ec77",
   "metadata": {},
   "outputs": [],
   "source": [
    "# Run our SEIR model\n",
    "hiv_model = build_hiv_model()\n",
    "hiv_model.run(parameters=parameters)\n",
    "compartments = hiv_model.get_outputs_df()"
   ]
  },
  {
   "cell_type": "code",
   "execution_count": null,
   "id": "945a077d-8ff8-47a1-a1e2-b139c0430f62",
   "metadata": {},
   "outputs": [],
   "source": [
    "fig, (left_ax, right_ax) = plt.subplots(1, 2, figsize=(14, 5))\n",
    "left_ax.plot(\n",
    "    hiv_model.times,\n",
    "    compartments[\"Infectious\"],\n",
    ")\n",
    "# left_ax.set_xlim(0., 120.)\n",
    "# left_ax.set_xlabel(\"Time (days)\")\n",
    "# left_ax.set_ylim(0., 12.)\n",
    "# left_ax.set_ylabel(\"ln {number or cumulative number of infectious individuals}\")\n",
    "# left_ax.set_title(\"Measles\")\n",
    "left_ax.legend()\n",
    "\n",
    "image = plt.imread(\"./figures/fig_8_20a.jpg\")\n",
    "right_ax.axis(\"off\")\n",
    "right_ax.imshow(image, aspect=\"auto\");"
   ]
  }
 ],
 "metadata": {
  "kernelspec": {
   "display_name": "Python 3 (ipykernel)",
   "language": "python",
   "name": "python3"
  },
  "language_info": {
   "codemirror_mode": {
    "name": "ipython",
    "version": 3
   },
   "file_extension": ".py",
   "mimetype": "text/x-python",
   "name": "python",
   "nbconvert_exporter": "python",
   "pygments_lexer": "ipython3",
   "version": "3.10.3"
  }
 },
 "nbformat": 4,
 "nbformat_minor": 5
}
