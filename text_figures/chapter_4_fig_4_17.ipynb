{
 "cells": [
  {
   "cell_type": "markdown",
   "id": "beefe0fc-cc09-490b-9216-4ebdbbc81103",
   "metadata": {},
   "source": [
    "# Figure 4.17 of Chapter 4"
   ]
  },
  {
   "cell_type": "code",
   "execution_count": null,
   "id": "c19f8c92-d7df-4c54-8ef8-c006391d57cf",
   "metadata": {},
   "outputs": [],
   "source": [
    "from summer2 import CompartmentalModel\n",
    "import matplotlib.pyplot as plt"
   ]
  },
  {
   "cell_type": "code",
   "execution_count": null,
   "id": "4e61bc8e-b5c0-467c-a3e7-dfac9e4a3220",
   "metadata": {},
   "outputs": [],
   "source": [
    "# Raw input parameters\n",
    "latent_period = 8.\n",
    "infectious_period = 7.\n",
    "r0 = 13.\n",
    "life_expectancy = 70.\n",
    "population = 1e5\n",
    "seed = 1.\n",
    "\n",
    "# Derived parameters\n",
    "beta = r0 / infectious_period\n",
    "progression = 1. / latent_period\n",
    "recovery = 1. / infectious_period\n",
    "mortality = 1. / life_expectancy / 365.\n",
    "\n",
    "# Create the SEIR model with demographic processes\n",
    "compartments = (\n",
    "    \"Susceptible\", \n",
    "    \"Pre-infectious\", \n",
    "    \"Infectious\", \n",
    "    \"Immune\"\n",
    ")\n",
    "seir_demog_model = CompartmentalModel(\n",
    "    times=(0, 25550.),\n",
    "    compartments=compartments,\n",
    "    infectious_compartments=[\"Infectious\"],\n",
    ")\n",
    "seir_demog_model.set_initial_population(\n",
    "    distribution={\n",
    "        \"Susceptible\": population - seed, \n",
    "        \"Infectious\": seed,\n",
    "    }\n",
    ")\n",
    "seir_demog_model.add_infection_frequency_flow(\n",
    "    name=\"infection\", \n",
    "    contact_rate=beta,\n",
    "    source=\"Susceptible\", \n",
    "    dest=\"Pre-infectious\"\n",
    ")\n",
    "seir_demog_model.add_transition_flow(\n",
    "    name=\"progression\", \n",
    "    fractional_rate=progression,\n",
    "    source=\"Pre-infectious\", \n",
    "    dest=\"Infectious\"\n",
    ")\n",
    "seir_demog_model.add_transition_flow(\n",
    "    name=\"recovery\", \n",
    "    fractional_rate=recovery, \n",
    "    source=\"Infectious\", \n",
    "    dest=\"Immune\",\n",
    ")\n",
    "seir_demog_model.add_universal_death_flows(\n",
    "    \"universal_death\",\n",
    "    death_rate=mortality,\n",
    ")\n",
    "seir_demog_model.add_replacement_birth_flow(\n",
    "    \"births\",\n",
    "    \"Susceptible\",\n",
    ")\n",
    "\n",
    "seir_demog_model.request_output_for_flow(\n",
    "    name=\"incidence\", \n",
    "    flow_name=\"progression\",\n",
    ")"
   ]
  },
  {
   "cell_type": "code",
   "execution_count": null,
   "id": "d672de6c-29f9-448c-bed1-a17cbd283e0a",
   "metadata": {},
   "outputs": [],
   "source": [
    "seir_demog_model.run()"
   ]
  },
  {
   "cell_type": "code",
   "execution_count": null,
   "id": "dc5b547c-515e-4b73-bbaf-bda5ea9036c2",
   "metadata": {},
   "outputs": [],
   "source": [
    "outputs = seir_demog_model.get_outputs_df()\n",
    "fig, (left_ax, right_ax) = plt.subplots(1, 2, figsize=(14, 5))\n",
    "left_ax.plot(seir_demog_model.times, seir_demog_model.get_derived_outputs_df()[\"incidence\"], color=\"k\")\n",
    "left_ax.set_xlabel(\"Time (days)\")\n",
    "left_ax.set_xlim((0., 25550.))\n",
    "left_ax.set_ylabel(\"Number of new infectious individuals/100,000/day\")\n",
    "left_ax.set_ylim((0, 100.))\n",
    "image = plt.imread(\"./figures/fig_4_17.jpg\")\n",
    "right_ax.axis(\"off\")\n",
    "right_ax.imshow(image, aspect=\"auto\");"
   ]
  },
  {
   "cell_type": "markdown",
   "id": "e4017d1d-2f79-440a-96e9-a400344ea4b5",
   "metadata": {},
   "source": [
    "## Figure 4.19 a)"
   ]
  },
  {
   "cell_type": "code",
   "execution_count": null,
   "id": "a687a853-000b-413b-9795-2f310bf8b4cd",
   "metadata": {},
   "outputs": [],
   "source": [
    "derived_outputs = seir_demog_model.get_derived_outputs_df()\n",
    "derived_outputs.index = derived_outputs.index / 365.\n",
    "outputs.index = outputs.index / 365.\n",
    "output_props = outputs / population\n",
    "outputs[\"R_n\"] = r0 * output_props[\"Susceptible\"]"
   ]
  },
  {
   "cell_type": "code",
   "execution_count": null,
   "id": "c2ffa45f-10b4-4372-a552-0cce8e06b931",
   "metadata": {},
   "outputs": [],
   "source": [
    "fig, (left_ax, right_ax) = plt.subplots(1, 2, figsize=(14, 5))\n",
    "\n",
    "left_ax.plot(\n",
    "    derived_outputs.index,\n",
    "    derived_outputs[\"incidence\"],\n",
    "    color=\"k\",\n",
    ")\n",
    "left_ax.set_xlim(40., 50.)\n",
    "left_ax.set_ylim(0., 20.)\n",
    "left_ax.set_ylabel(\"Proportion immune\")\n",
    "\n",
    "twin_ax = left_ax.twinx()\n",
    "twin_ax.plot(\n",
    "    outputs.index,\n",
    "    outputs[\"R_n\"],\n",
    "    color=\"k\",\n",
    "    linestyle=\"--\",\n",
    ")\n",
    "twin_ax.set_ylabel(\"Daily number of new infectious persons/100,000\")\n",
    "twin_ax.set_ylim(0.5, 1.5)\n",
    "\n",
    "image = plt.imread(\"./figures/fig_4_19a.jpg\")\n",
    "right_ax.axis(\"off\")\n",
    "right_ax.imshow(image, aspect=\"auto\");"
   ]
  },
  {
   "cell_type": "code",
   "execution_count": null,
   "id": "d6a1a9f3-08ba-4d28-9bc5-9d908a265d76",
   "metadata": {},
   "outputs": [],
   "source": [
    "fig, (left_ax, right_ax) = plt.subplots(1, 2, figsize=(14, 5))\n",
    "\n",
    "left_ax.plot(\n",
    "    derived_outputs.index,\n",
    "    derived_outputs[\"incidence\"],\n",
    "    color=\"k\",\n",
    ")\n",
    "left_ax.set_xlim(40., 50.)\n",
    "left_ax.set_ylim(0., 20.)\n",
    "left_ax.set_ylabel(\"Proportion immune\")\n",
    "\n",
    "twin_ax = left_ax.twinx()\n",
    "twin_ax.plot(\n",
    "    output_props.index,\n",
    "    output_props[\"Susceptible\"],\n",
    "    color=\"k\",\n",
    "    linestyle=\"--\",\n",
    ")\n",
    "twin_ax.set_ylabel(\"Daily number of new infectious persons/100,000\")\n",
    "twin_ax.set_ylim(0.04, 0.12)\n",
    "\n",
    "image = plt.imread(\"./figures/fig_4_19b.jpg\")\n",
    "right_ax.axis(\"off\")\n",
    "right_ax.imshow(image, aspect=\"auto\");"
   ]
  },
  {
   "cell_type": "markdown",
   "id": "5d7f0e8d-fb46-4280-8459-e7d5dc292b5f",
   "metadata": {},
   "source": [
    "## Figure 4.19 c)"
   ]
  },
  {
   "cell_type": "code",
   "execution_count": null,
   "id": "31bb42e4-3c58-4124-bc7b-f0ce9884c2dd",
   "metadata": {},
   "outputs": [],
   "source": [
    "fig, (left_ax, right_ax) = plt.subplots(1, 2, figsize=(14, 5))\n",
    "\n",
    "left_ax.plot(\n",
    "    derived_outputs.index,\n",
    "    derived_outputs[\"incidence\"],\n",
    "    color=\"k\",\n",
    ")\n",
    "left_ax.set_xlim(40., 50.)\n",
    "left_ax.set_ylim(0., 20.)\n",
    "left_ax.set_ylabel(\"Proportion immune\")\n",
    "\n",
    "twin_ax = left_ax.twinx()\n",
    "twin_ax.plot(\n",
    "    output_props.index,\n",
    "    output_props[\"Immune\"],\n",
    "    color=\"k\",\n",
    "    linestyle=\"--\",\n",
    ")\n",
    "twin_ax.set_ylabel(\"Daily number of new infectious persons/100,000\")\n",
    "twin_ax.set_ylim(0.88, 0.96)\n",
    "\n",
    "image = plt.imread(\"./figures/fig_4_19c.jpg\")\n",
    "right_ax.axis(\"off\")\n",
    "right_ax.imshow(image, aspect=\"auto\");"
   ]
  }
 ],
 "metadata": {
  "kernelspec": {
   "display_name": "Python 3 (ipykernel)",
   "language": "python",
   "name": "python3"
  },
  "language_info": {
   "codemirror_mode": {
    "name": "ipython",
    "version": 3
   },
   "file_extension": ".py",
   "mimetype": "text/x-python",
   "name": "python",
   "nbconvert_exporter": "python",
   "pygments_lexer": "ipython3",
   "version": "3.10.4"
  }
 },
 "nbformat": 4,
 "nbformat_minor": 5
}
