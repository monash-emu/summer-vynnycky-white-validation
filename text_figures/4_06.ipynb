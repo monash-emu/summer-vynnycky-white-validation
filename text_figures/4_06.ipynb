{
 "cells": [
  {
   "cell_type": "code",
   "execution_count": null,
   "id": "ba4f5623-f0e8-4bf7-83bc-edadd58df061",
   "metadata": {},
   "outputs": [],
   "source": [
    "import numpy as np\n",
    "import pandas as pd\n",
    "import matplotlib.pyplot as plt\n",
    "from matplotlib.ticker import AutoMinorLocator\n",
    "\n",
    "from summer2 import CompartmentalModel\n",
    "from summer2.parameters import Parameter"
   ]
  },
  {
   "cell_type": "code",
   "execution_count": null,
   "id": "9b44489f-d8a7-4c48-a881-7155508591d4",
   "metadata": {},
   "outputs": [],
   "source": [
    "def build_seir_model(\n",
    "    config: dict,\n",
    ") -> CompartmentalModel:\n",
    "    \n",
    "    # Model characteristics\n",
    "    compartments = (\n",
    "        \"Susceptible\", \n",
    "        \"Pre-infectious\", \n",
    "        \"Infectious\", \n",
    "        \"Immune\"\n",
    "    )\n",
    "    model = CompartmentalModel(\n",
    "        times=(0., config[\"end_time\"]),\n",
    "        compartments=compartments,\n",
    "        infectious_compartments=(\"Infectious\",),\n",
    "    )\n",
    "    model.set_initial_population(\n",
    "        distribution={\n",
    "            \"Susceptible\": config[\"total_population\"] - config[\"infectious_seed\"], \n",
    "            \"Infectious\": config[\"infectious_seed\"]\n",
    "        }\n",
    "    )\n",
    "    \n",
    "    # Transitions\n",
    "    infectious_period = Parameter(\"infectious_period\")\n",
    "    model.add_infection_frequency_flow(\n",
    "        name=\"infection\", \n",
    "        contact_rate=Parameter(\"r0\") / infectious_period,\n",
    "        source=\"Susceptible\",\n",
    "        dest=\"Pre-infectious\"\n",
    "    )\n",
    "    model.add_transition_flow(\n",
    "        name=\"progression\", \n",
    "        fractional_rate=1. / Parameter(\"latent_period\"),\n",
    "        source=\"Pre-infectious\", \n",
    "        dest=\"Infectious\"\n",
    "    )\n",
    "    model.add_transition_flow(\n",
    "        name=\"recovery\", \n",
    "        fractional_rate=1. / infectious_period,\n",
    "        source=\"Infectious\", \n",
    "        dest=\"Immune\"\n",
    "    )\n",
    "    \n",
    "    # Output\n",
    "    model.request_output_for_flow(\n",
    "        name=\"incidence\", \n",
    "        flow_name=\"progression\",\n",
    "        raw_results=True,\n",
    "    )\n",
    "    \n",
    "    return model"
   ]
  },
  {
   "cell_type": "code",
   "execution_count": null,
   "id": "821475c3-4e5b-4bc9-a637-06fc33d6bb84",
   "metadata": {},
   "outputs": [],
   "source": [
    "model_config = {\n",
    "    \"total_population\": 1e5,\n",
    "    \"infectious_seed\": 1.,\n",
    "    \"end_time\": 120.,\n",
    "}\n",
    "\n",
    "parameters = {\n",
    "    \"r0\": 13.,\n",
    "    \"latent_period\": 8.,\n",
    "    \"infectious_period\": 7.,\n",
    "}"
   ]
  },
  {
   "cell_type": "code",
   "execution_count": null,
   "id": "56ce85e4-aeec-44ec-8f1b-f28c9bf4ec77",
   "metadata": {},
   "outputs": [],
   "source": [
    "measles_model = build_seir_model(model_config)\n",
    "measles_model.run(parameters=parameters)\n",
    "measles_outputs = pd.DataFrame()\n",
    "measles_outputs[\"Prevalence of infectious individuals\"] = measles_model.get_outputs_df()[\"Infectious\"]\n",
    "measles_outputs[\"New infectious individuals/day\"] = measles_model.get_derived_outputs_df()[\"incidence\"]\n",
    "measles_outputs[\"Cumulative number of infectious individuals\"] = measles_outputs.loc[:, \"New infectious individuals/day\"].cumsum()"
   ]
  },
  {
   "cell_type": "markdown",
   "id": "cd8dcef3-d871-4e18-a6b1-586c4a2862fc",
   "metadata": {
    "tags": []
   },
   "source": [
    "#### Panel (a) - measles"
   ]
  },
  {
   "cell_type": "code",
   "execution_count": null,
   "id": "945a077d-8ff8-47a1-a1e2-b139c0430f62",
   "metadata": {},
   "outputs": [],
   "source": [
    "fig, (left_ax, right_ax) = plt.subplots(1, 2, figsize=(14, 5))\n",
    "log_outputs = np.log(measles_outputs[1:])\n",
    "line_styles = (\"-\", \":\", \"--\")\n",
    "\n",
    "for i_ind, indicator in enumerate(measles_outputs.columns):\n",
    "    left_ax.plot(\n",
    "        measles_model.times[1:],\n",
    "        log_outputs[indicator],\n",
    "        label=indicator,\n",
    "        linestyle=line_styles[i_ind],\n",
    "        color=\"k\",\n",
    "    )\n",
    "left_ax.set_xlim(0., 120.)\n",
    "left_ax.xaxis.set_minor_locator(AutoMinorLocator(5))\n",
    "left_ax.set_ylim(0., 12.)\n",
    "left_ax.set_ylabel(\"ln {number or cumulative number of infectious individuals}\")\n",
    "left_ax.set_yticks(range(0, 16, 4))\n",
    "left_ax.yaxis.set_minor_locator(AutoMinorLocator(4))\n",
    "left_ax.legend()\n",
    "left_ax.spines.top.set_visible(False)\n",
    "left_ax.spines.right.set_visible(False)\n",
    "\n",
    "image = plt.imread(\"./figures/fig_4_6a.jpg\")\n",
    "right_ax.axis(\"off\")\n",
    "right_ax.imshow(image, aspect=\"auto\");"
   ]
  },
  {
   "cell_type": "code",
   "execution_count": null,
   "id": "f5b9f21f-658c-44b3-96f1-805860109cdb",
   "metadata": {},
   "outputs": [],
   "source": [
    "parameters = {\n",
    "    \"r0\": 2.,\n",
    "    \"latent_period\": 2.,\n",
    "    \"infectious_period\": 2.,\n",
    "}"
   ]
  },
  {
   "cell_type": "code",
   "execution_count": null,
   "id": "5071956b-5ade-421a-b646-4cf411633cfe",
   "metadata": {},
   "outputs": [],
   "source": [
    "flu_model = build_seir_model(model_config)\n",
    "flu_model.run(parameters=parameters)\n",
    "flu_outputs = pd.DataFrame()\n",
    "flu_outputs[\"Prevalence of infectious individuals\"] = flu_model.get_outputs_df()[\"Infectious\"]\n",
    "flu_outputs[\"New infectious individuals/day\"] = flu_model.get_derived_outputs_df()[\"incidence\"]\n",
    "flu_outputs[\"Cumulative number of infectious individuals\"] = flu_outputs.loc[:, \"New infectious individuals/day\"].cumsum()"
   ]
  },
  {
   "cell_type": "markdown",
   "id": "090c5c97-9fb2-47d0-9ca2-9a5c7ef29a04",
   "metadata": {
    "tags": []
   },
   "source": [
    "#### Panel (b) - influenza"
   ]
  },
  {
   "cell_type": "code",
   "execution_count": null,
   "id": "d4281ff5-aaeb-477f-bc3f-505c963e5fbf",
   "metadata": {},
   "outputs": [],
   "source": [
    "fig, (left_ax, right_ax) = plt.subplots(1, 2, figsize=(14, 5))\n",
    "log_outputs = np.log(flu_outputs[1:])\n",
    "line_styles = (\"-\", \":\", \"--\")\n",
    "\n",
    "for i_ind, indicator in enumerate(flu_outputs.columns):\n",
    "    left_ax.plot(\n",
    "        flu_model.times[1:],\n",
    "        log_outputs[indicator],\n",
    "        linestyle=line_styles[i_ind],\n",
    "        color=\"k\",\n",
    "    )\n",
    "left_ax.set_xlim(0., 120.)\n",
    "left_ax.xaxis.set_minor_locator(AutoMinorLocator(5))\n",
    "left_ax.set_ylim(0., 12.)\n",
    "left_ax.set_yticks(range(0, 16, 4))\n",
    "left_ax.yaxis.set_minor_locator(AutoMinorLocator(4))\n",
    "left_ax.spines.top.set_visible(False)\n",
    "left_ax.spines.right.set_visible(False)\n",
    "\n",
    "image = plt.imread(\"./figures/fig_4_6b.jpg\")\n",
    "right_ax.axis(\"off\")\n",
    "right_ax.imshow(image, aspect=\"auto\");"
   ]
  }
 ],
 "metadata": {
  "kernelspec": {
   "display_name": "Python 3 (ipykernel)",
   "language": "python",
   "name": "python3"
  },
  "language_info": {
   "codemirror_mode": {
    "name": "ipython",
    "version": 3
   },
   "file_extension": ".py",
   "mimetype": "text/x-python",
   "name": "python",
   "nbconvert_exporter": "python",
   "pygments_lexer": "ipython3",
   "version": "3.10.3"
  }
 },
 "nbformat": 4,
 "nbformat_minor": 5
}
