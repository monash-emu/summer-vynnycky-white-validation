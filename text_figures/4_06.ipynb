{
 "cells": [
  {
   "cell_type": "markdown",
   "id": "e7f5d611-be3f-4243-827f-e82805f143de",
   "metadata": {},
   "source": [
    "# Figure 4.6 of Chapter 4"
   ]
  },
  {
   "cell_type": "code",
   "execution_count": null,
   "id": "ba4f5623-f0e8-4bf7-83bc-edadd58df061",
   "metadata": {},
   "outputs": [],
   "source": [
    "from summer2 import CompartmentalModel\n",
    "from summer2.parameters import Parameter\n",
    "import numpy as np\n",
    "import matplotlib.pyplot as plt"
   ]
  },
  {
   "cell_type": "code",
   "execution_count": null,
   "id": "821475c3-4e5b-4bc9-a637-06fc33d6bb84",
   "metadata": {},
   "outputs": [],
   "source": [
    "# Parameterise\n",
    "population = 100000.\n",
    "latent_period = 8.\n",
    "infectious_period = 7.\n",
    "r0 = 13.\n",
    "infectious_seed = 1.\n",
    "\n",
    "parameters = {\n",
    "    \"contact_rate\": r0 / infectious_period,\n",
    "    \"infous_rate\": 1. / latent_period,\n",
    "    \"rec_rate\": 1. / infectious_period,\n",
    "}"
   ]
  },
  {
   "cell_type": "code",
   "execution_count": null,
   "id": "9b44489f-d8a7-4c48-a881-7155508591d4",
   "metadata": {},
   "outputs": [],
   "source": [
    "# Create equivalent model\n",
    "compartments = (\n",
    "    \"Susceptible\", \n",
    "    \"Pre-infectious\", \n",
    "    \"Infectious\", \n",
    "    \"Immune\"\n",
    ")\n",
    "seir_model = CompartmentalModel(\n",
    "    times=(0., 120.),\n",
    "    compartments=compartments,\n",
    "    infectious_compartments=(\"Infectious\",),\n",
    ")\n",
    "seir_model.set_initial_population(\n",
    "    distribution={\n",
    "        \"Susceptible\": population - infectious_seed, \n",
    "        \"Infectious\": infectious_seed\n",
    "    }\n",
    ")\n",
    "seir_model.add_infection_frequency_flow(\n",
    "    name=\"infection\", \n",
    "    contact_rate=Parameter(\"contact_rate\"),\n",
    "    source=\"Susceptible\",\n",
    "    dest=\"Pre-infectious\"\n",
    ")\n",
    "seir_model.add_transition_flow(\n",
    "    name=\"progression\", \n",
    "    fractional_rate=Parameter(\"infous_rate\"),\n",
    "    source=\"Pre-infectious\", \n",
    "    dest=\"Infectious\"\n",
    ")\n",
    "seir_model.add_transition_flow(\n",
    "    name=\"recovery\", \n",
    "    fractional_rate=Parameter(\"rec_rate\"), \n",
    "    source=\"Infectious\", \n",
    "    dest=\"Immune\"\n",
    ")\n",
    "seir_model.request_output_for_flow(\n",
    "    name=\"incidence\", \n",
    "    flow_name=\"progression\",\n",
    "    raw_results=True,\n",
    ")"
   ]
  },
  {
   "cell_type": "code",
   "execution_count": null,
   "id": "56ce85e4-aeec-44ec-8f1b-f28c9bf4ec77",
   "metadata": {},
   "outputs": [],
   "source": [
    "# Run our SEIR model\n",
    "seir_model.run(parameters=parameters)\n",
    "seir_compartments = seir_model.get_outputs_df()\n",
    "outputs = seir_compartments[[\"Infectious\"]]\n",
    "outputs[\"New infectious individuals/day\"] = seir_model.get_derived_outputs_df()[\"incidence\"]\n",
    "outputs[\"Cumulative number of infectious individuals\"] = seir_compartments[\n",
    "    [\n",
    "        \"Pre-infectious\", \n",
    "        \"Infectious\", \n",
    "        \"Immune\"\n",
    "    ]\n",
    "].sum(axis=1)"
   ]
  },
  {
   "cell_type": "code",
   "execution_count": null,
   "id": "945a077d-8ff8-47a1-a1e2-b139c0430f62",
   "metadata": {},
   "outputs": [],
   "source": [
    "fig, (left_ax, right_ax) = plt.subplots(1, 2, figsize=(14, 5))\n",
    "log_outputs = np.log(outputs)\n",
    "\n",
    "for indicator in outputs.columns:\n",
    "    left_ax.plot(\n",
    "        seir_model.times,\n",
    "        log_outputs[indicator],\n",
    "        label=indicator,\n",
    "    )\n",
    "left_ax.set_xlim(0., 120.)\n",
    "left_ax.set_xlabel(\"Time (days)\")\n",
    "left_ax.set_ylim(0., 12.)\n",
    "left_ax.set_ylabel(\"ln {number or cumulative number of infectious individuals}\")\n",
    "left_ax.set_title(\"Measles\")\n",
    "left_ax.legend()\n",
    "\n",
    "image = plt.imread(\"./figures/fig_4_6_measles.jpg\")\n",
    "right_ax.axis(\"off\")\n",
    "right_ax.imshow(image, aspect=\"auto\");"
   ]
  },
  {
   "cell_type": "code",
   "execution_count": null,
   "id": "f5b9f21f-658c-44b3-96f1-805860109cdb",
   "metadata": {},
   "outputs": [],
   "source": [
    "# Re-parameterise for flu\n",
    "latent_period = 2.\n",
    "infectious_period = 2.\n",
    "r0 = 2.\n",
    "parameters = {\n",
    "    \"contact_rate\": r0 / infectious_period,\n",
    "    \"infous_rate\": 1. / latent_period,\n",
    "    \"rec_rate\": 1. / infectious_period,\n",
    "}"
   ]
  },
  {
   "cell_type": "code",
   "execution_count": null,
   "id": "5071956b-5ade-421a-b646-4cf411633cfe",
   "metadata": {},
   "outputs": [],
   "source": [
    "# Run our SEIR model\n",
    "seir_model.run(parameters=parameters)\n",
    "seir_compartments = seir_model.get_outputs_df()\n",
    "outputs = seir_compartments[[\"Infectious\"]]\n",
    "outputs[\"New infectious individuals/day\"] = seir_model.get_derived_outputs_df()[\"incidence\"]\n",
    "outputs[\"Cumulative number of infectious individuals\"] = seir_compartments[\n",
    "    [\n",
    "        \"Pre-infectious\", \n",
    "        \"Infectious\", \n",
    "        \"Immune\"\n",
    "    ]\n",
    "].sum(axis=1)"
   ]
  },
  {
   "cell_type": "code",
   "execution_count": null,
   "id": "d4281ff5-aaeb-477f-bc3f-505c963e5fbf",
   "metadata": {},
   "outputs": [],
   "source": [
    "fig, (left_ax, right_ax) = plt.subplots(1, 2, figsize=(14, 5))\n",
    "log_outputs = np.log(outputs)\n",
    "\n",
    "for indicator in outputs.columns:\n",
    "    left_ax.plot(\n",
    "        seir_model.times,\n",
    "        log_outputs[indicator],\n",
    "        label=indicator,\n",
    "    )\n",
    "left_ax.set_xlim(0., 120.)\n",
    "left_ax.set_xlabel(\"Time (days)\")\n",
    "left_ax.set_ylim(0., 12.)\n",
    "left_ax.set_ylabel(\"ln {number or cumulative number of infectious individuals}\")\n",
    "left_ax.set_title(\"Influenza\")\n",
    "left_ax.legend()\n",
    "\n",
    "image = plt.imread(\"./figures/fig_4_6_flu.jpg\")\n",
    "right_ax.axis(\"off\")\n",
    "right_ax.imshow(image, aspect=\"auto\");"
   ]
  }
 ],
 "metadata": {
  "kernelspec": {
   "display_name": "Python 3 (ipykernel)",
   "language": "python",
   "name": "python3"
  },
  "language_info": {
   "codemirror_mode": {
    "name": "ipython",
    "version": 3
   },
   "file_extension": ".py",
   "mimetype": "text/x-python",
   "name": "python",
   "nbconvert_exporter": "python",
   "pygments_lexer": "ipython3",
   "version": "3.10.4"
  }
 },
 "nbformat": 4,
 "nbformat_minor": 5
}
