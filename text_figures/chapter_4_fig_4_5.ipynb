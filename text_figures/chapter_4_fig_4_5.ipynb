{
 "cells": [
  {
   "cell_type": "markdown",
   "id": "b8b670fd-0535-444d-bd94-a7b78d9caf10",
   "metadata": {},
   "source": [
    "# Figure 4.5 of Chapter 4"
   ]
  },
  {
   "cell_type": "code",
   "execution_count": null,
   "id": "b6e07c88-9106-47b2-aba1-11e3ac9130e5",
   "metadata": {},
   "outputs": [],
   "source": [
    "from summer2 import CompartmentalModel\n",
    "from summer2.parameters import Parameter\n",
    "import pandas as pd\n",
    "import matplotlib.pyplot as plt"
   ]
  },
  {
   "cell_type": "code",
   "execution_count": null,
   "id": "983ac294-3939-457c-87e8-ca99cac84774",
   "metadata": {},
   "outputs": [],
   "source": [
    "total_population = 1e5\n",
    "latent_period = 8.\n",
    "infectious_period = 7.\n",
    "r0 = 13.\n",
    "parameters = {\n",
    "    \"beta\": r0 / infectious_period,\n",
    "    \"progression\": 1. / latent_period,\n",
    "    \"recovery_rate\": 1. / infectious_period,\n",
    "}\n",
    "infectious_seed = 1.  # Parameter not stated"
   ]
  },
  {
   "cell_type": "code",
   "execution_count": null,
   "id": "f6f28ddf-7410-4a1a-b786-930b79097787",
   "metadata": {},
   "outputs": [],
   "source": [
    "def build_seir_model(prop_recovered):\n",
    "    compartments = (\n",
    "        \"Susceptible\", \n",
    "        \"Pre-infectious\", \n",
    "        \"Infectious\", \n",
    "        \"Immune\"\n",
    "    )\n",
    "    seir_model = CompartmentalModel(\n",
    "        times=(0., 2000.),\n",
    "        compartments=compartments,\n",
    "        infectious_compartments=[\"Infectious\"],\n",
    "    )\n",
    "    seir_model.set_initial_population(\n",
    "        distribution={\n",
    "            \"Susceptible\": total_population * (1. - prop_recovered) - infectious_seed, \n",
    "            \"Infectious\": infectious_seed,\n",
    "            \"Immune\": total_population * prop_recovered,\n",
    "        }\n",
    "    )\n",
    "    seir_model.add_infection_frequency_flow(\n",
    "        name=\"infection\", \n",
    "        contact_rate=Parameter(\"beta\"),\n",
    "        source=\"Susceptible\",\n",
    "        dest=\"Pre-infectious\"\n",
    "    )\n",
    "    seir_model.add_transition_flow(\n",
    "        name=\"progression\", \n",
    "        fractional_rate=Parameter(\"progression\"),\n",
    "        source=\"Pre-infectious\", \n",
    "        dest=\"Infectious\"\n",
    "    )\n",
    "    seir_model.add_transition_flow(\n",
    "        name=\"recovery\", \n",
    "        fractional_rate=Parameter(\"recovery_rate\"), \n",
    "        source=\"Infectious\", \n",
    "        dest=\"Immune\"\n",
    "    )\n",
    "    seir_model.request_output_for_flow(\n",
    "        name=\"incidence\", \n",
    "        flow_name=\"progression\"\n",
    "    )\n",
    "    return seir_model"
   ]
  },
  {
   "cell_type": "code",
   "execution_count": null,
   "id": "03a80741-28b5-4ef1-974d-facde79cca79",
   "metadata": {},
   "outputs": [],
   "source": [
    "outputs = pd.DataFrame()\n",
    "immune_props = (0., 0.9, 0.92, 0.923, 0.93, 0.95,)\n",
    "for immune_prop in immune_props:\n",
    "    seir_model = build_seir_model(immune_prop)\n",
    "    seir_model.run(parameters=parameters)\n",
    "    outputs[immune_prop] = seir_model.get_derived_outputs_df()[\"incidence\"]"
   ]
  },
  {
   "cell_type": "code",
   "execution_count": null,
   "id": "0931b089-8e17-4f7b-8633-13945164a00e",
   "metadata": {},
   "outputs": [],
   "source": [
    "fig, (left_ax, right_ax) = plt.subplots(1, 2, figsize=(14, 5))\n",
    "\n",
    "for prop in immune_props:\n",
    "    left_ax.plot(\n",
    "        seir_model.times, \n",
    "        outputs[prop],\n",
    "        label=prop,\n",
    "    )\n",
    "left_ax.set_yscale('log')\n",
    "left_ax.set_ylim((0.01, 1e4))\n",
    "left_ax.set_xlim((0., 2000.))\n",
    "left_ax.set_ylabel(\"Number of infectious individuals/100,000/day\")\n",
    "left_ax.set_title(\"Measles\")\n",
    "left_ax.legend()\n",
    "\n",
    "image = plt.imread(\"./figures/fig_4_5.jpg\")\n",
    "right_ax.imshow(image, aspect=\"auto\")\n",
    "right_ax.axis(\"off\");"
   ]
  }
 ],
 "metadata": {
  "kernelspec": {
   "display_name": "Python 3 (ipykernel)",
   "language": "python",
   "name": "python3"
  },
  "language_info": {
   "codemirror_mode": {
    "name": "ipython",
    "version": 3
   },
   "file_extension": ".py",
   "mimetype": "text/x-python",
   "name": "python",
   "nbconvert_exporter": "python",
   "pygments_lexer": "ipython3",
   "version": "3.10.3"
  }
 },
 "nbformat": 4,
 "nbformat_minor": 5
}
