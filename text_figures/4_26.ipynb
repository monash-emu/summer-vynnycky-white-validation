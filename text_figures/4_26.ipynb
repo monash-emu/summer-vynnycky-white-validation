{
 "cells": [
  {
   "cell_type": "markdown",
   "id": "be540a2a-2e51-47be-a1e0-83b8f03910c7",
   "metadata": {},
   "source": [
    "Recreating the version of Figure 4.26 in the hard copy textbook.\n",
    "This differs from the PDF found online and using for images.\n",
    "Neither mention an edition number, publication year is 2010,\n",
    "and ISBN is the same (978-0-19-856-576-5).\n",
    "Online PDF is presumably wrong,\n",
    "because Figure 4.26 (b) is the same as 4.29 (b)."
   ]
  },
  {
   "cell_type": "code",
   "execution_count": null,
   "id": "c19f8c92-d7df-4c54-8ef8-c006391d57cf",
   "metadata": {},
   "outputs": [],
   "source": [
    "import matplotlib.pyplot as plt\n",
    "from matplotlib.ticker import AutoMinorLocator\n",
    "\n",
    "from summer2 import CompartmentalModel\n",
    "from summer2.parameters import Parameter, DerivedOutput"
   ]
  },
  {
   "cell_type": "code",
   "execution_count": null,
   "id": "4e61bc8e-b5c0-467c-a3e7-dfac9e4a3220",
   "metadata": {},
   "outputs": [],
   "source": [
    "model_config = {\n",
    "    \"end_time\": 25550.,\n",
    "    \"total_population\": 1e5,\n",
    "    \"infectious_seed\": 1.,\n",
    "}\n",
    "\n",
    "parameters = {\n",
    "    \"latent_period\": 8.,\n",
    "    \"infectious_period\": 7.,\n",
    "    \"r0\": 13.,\n",
    "    \"life_expectancy\": 70.,\n",
    "}"
   ]
  },
  {
   "cell_type": "code",
   "execution_count": null,
   "id": "5c178dae-7bce-4cf1-a311-e8eb3768e627",
   "metadata": {},
   "outputs": [],
   "source": [
    "def build_demog_model(\n",
    "    config: dict,\n",
    ") -> CompartmentalModel:\n",
    "    \n",
    "    # Model characteristics\n",
    "    compartments = (\n",
    "        \"Susceptible\", \n",
    "        \"Pre-infectious\", \n",
    "        \"Infectious\", \n",
    "        \"Immune\"\n",
    "    )\n",
    "    model = CompartmentalModel(\n",
    "        times=(0, config[\"end_time\"]),\n",
    "        compartments=compartments,\n",
    "        infectious_compartments=[\"Infectious\"],\n",
    "    )\n",
    "    model.set_initial_population(\n",
    "        distribution={\n",
    "            \"Susceptible\": config[\"total_population\"] - config[\"infectious_seed\"],\n",
    "            \"Infectious\": config[\"infectious_seed\"],\n",
    "        }\n",
    "    )\n",
    "    \n",
    "    # Transitions\n",
    "    model.add_infection_frequency_flow(\n",
    "        name=\"infection\", \n",
    "        contact_rate=Parameter(\"r0\") / Parameter(\"infectious_period\"),\n",
    "        source=\"Susceptible\", \n",
    "        dest=\"Pre-infectious\"\n",
    "    )\n",
    "    model.add_transition_flow(\n",
    "        name=\"progression\", \n",
    "        fractional_rate=1. / Parameter(\"latent_period\"),\n",
    "        source=\"Pre-infectious\", \n",
    "        dest=\"Infectious\"\n",
    "    )\n",
    "    model.add_transition_flow(\n",
    "        name=\"recovery\", \n",
    "        fractional_rate=1. / Parameter(\"infectious_period\"), \n",
    "        source=\"Infectious\", \n",
    "        dest=\"Immune\",\n",
    "    )\n",
    "    model.add_crude_birth_flow(\n",
    "        \"births\",\n",
    "        Parameter(\"crude_birth_rate\") / 365.,\n",
    "        \"Susceptible\",\n",
    "    )\n",
    "    model.add_universal_death_flows(\n",
    "        \"universal_death\",\n",
    "        death_rate=1. / Parameter(\"life_expectancy\") / 365.,\n",
    "    )\n",
    "    \n",
    "    # Outputs\n",
    "    model.request_output_for_flow(\n",
    "        name=\"incidence\", \n",
    "        flow_name=\"progression\",\n",
    "    )\n",
    "    model.request_output_for_compartments(\n",
    "        name=\"total_population\",\n",
    "        compartments=compartments,\n",
    "    )\n",
    "    model.request_function_output(\n",
    "        name=\"incidence_rate\",\n",
    "        func=DerivedOutput(\"incidence\") / DerivedOutput(\"total_population\") * 1e5,\n",
    "    )\n",
    "        \n",
    "    return model"
   ]
  },
  {
   "cell_type": "code",
   "execution_count": null,
   "id": "58aca2e3-20d8-49be-a9a4-06d6396d5358",
   "metadata": {},
   "outputs": [],
   "source": [
    "seir_variable_births_model = build_demog_model(model_config)"
   ]
  },
  {
   "cell_type": "markdown",
   "id": "dc96975d-8523-4f01-afde-b2b2be77d3aa",
   "metadata": {},
   "source": [
    "#### Panel a)"
   ]
  },
  {
   "cell_type": "code",
   "execution_count": null,
   "id": "80dcdf60-8e0b-4877-813a-b979147f9e12",
   "metadata": {},
   "outputs": [],
   "source": [
    "fig, (left_ax, right_ax) = plt.subplots(1, 2, figsize=(14, 5))\n",
    "line_styles = (\"-\", \"--\", \":\")\n",
    "for r, rate in enumerate((0.015, 0.025, 0.04)):\n",
    "    parameters.update({\"crude_birth_rate\": rate})\n",
    "    seir_variable_births_model.run(parameters=parameters)\n",
    "    incidence_rate = seir_variable_births_model.get_derived_outputs_df()[\"incidence_rate\"]\n",
    "    left_ax.plot(\n",
    "        incidence_rate.index / 365.,\n",
    "        incidence_rate,\n",
    "        color=\"k\",\n",
    "        linestyle=line_styles[r],\n",
    "        label=int(rate * 1000),\n",
    "    )\n",
    "left_ax.legend(title=\"Annual birth rate per 1000\")\n",
    "left_ax.set_xlabel(\"Time (years)\")\n",
    "left_ax.set_xlim(20., 70.)\n",
    "left_ax.xaxis.set_minor_locator(AutoMinorLocator(5))\n",
    "left_ax.set_ylabel(\"Number of infectious persons/100,000/day\")\n",
    "left_ax.set_ylim(0., 15.)\n",
    "left_ax.set_yticks(range(0, 20, 5))\n",
    "left_ax.spines.top.set_visible(False)\n",
    "\n",
    "image = plt.imread(\"./figures/fig_4_26.jpg\")\n",
    "right_ax.axis(\"off\")\n",
    "right_ax.imshow(image, aspect=\"auto\");"
   ]
  }
 ],
 "metadata": {
  "kernelspec": {
   "display_name": "Python 3 (ipykernel)",
   "language": "python",
   "name": "python3"
  },
  "language_info": {
   "codemirror_mode": {
    "name": "ipython",
    "version": 3
   },
   "file_extension": ".py",
   "mimetype": "text/x-python",
   "name": "python",
   "nbconvert_exporter": "python",
   "pygments_lexer": "ipython3",
   "version": "3.10.3"
  }
 },
 "nbformat": 4,
 "nbformat_minor": 5
}
