{
 "cells": [
  {
   "cell_type": "markdown",
   "id": "c71133fc-1ce8-48d5-a2c1-283467fb9f63",
   "metadata": {},
   "source": [
    "# Figure 4.12 of Chapter 4\n",
    "As with some previous figures, the infectious seed isn't specified\n",
    "which is presumably the reason why the curves aren't absolutely identical.\n",
    "Here, Vynnycky and White may not be using a numeric simulation,\n",
    "but rather calculating the epidemic final size from an analytic expression."
   ]
  },
  {
   "cell_type": "code",
   "execution_count": null,
   "id": "77fb6039-bef9-4f5b-ae15-f5f89b299415",
   "metadata": {},
   "outputs": [],
   "source": [
    "import pandas as pd\n",
    "import numpy as np\n",
    "import matplotlib.pyplot as plt\n",
    "\n",
    "from summer2 import CompartmentalModel\n",
    "from summer2.parameters import Parameter"
   ]
  },
  {
   "cell_type": "code",
   "execution_count": null,
   "id": "e6f8ce17-a617-42b8-99f2-3e6699203b6a",
   "metadata": {},
   "outputs": [],
   "source": [
    "def build_sir_model(\n",
    "    model_config: dict,\n",
    ") -> CompartmentalModel:\n",
    "    compartments = (\n",
    "        \"susceptible\",\n",
    "        \"infectious\",\n",
    "        \"recovered\",\n",
    "    )\n",
    "    analysis_times = (\n",
    "        model_config[\"start_time\"], \n",
    "        model_config[\"end_time\"],\n",
    "    )\n",
    "    model = CompartmentalModel(\n",
    "        times=analysis_times,\n",
    "        compartments=compartments,\n",
    "        infectious_compartments=[\"infectious\"],\n",
    "    )\n",
    "    model.set_initial_population(\n",
    "        distribution=\n",
    "        {\n",
    "            \"susceptible\": model_config[\"population\"] - model_config[\"seed\"], \n",
    "            \"infectious\": model_config[\"seed\"],\n",
    "        }\n",
    "    )\n",
    "    model.add_infection_frequency_flow(\n",
    "        name=\"infection\", \n",
    "        contact_rate=Parameter(\"contact_rate\"),\n",
    "        source=\"susceptible\", \n",
    "        dest=\"infectious\",\n",
    "    )\n",
    "    model.add_transition_flow(\n",
    "        name=\"recovery\", \n",
    "        fractional_rate=Parameter(\"recovery\"),\n",
    "        source=\"infectious\", \n",
    "        dest=\"recovered\",\n",
    "    )\n",
    "    return model"
   ]
  },
  {
   "cell_type": "code",
   "execution_count": null,
   "id": "a42a2a12-6130-4451-bd5d-89c3ce5a7f61",
   "metadata": {},
   "outputs": [],
   "source": [
    "parameters = {\n",
    "    \"recovery\": 0.333,\n",
    "}\n",
    "r0s = np.linspace(1.1, 15., 100)\n",
    "config = {\n",
    "    \"start_time\": 0.,\n",
    "    \"end_time\": 20.,\n",
    "    \"population\": 1.,\n",
    "    \"seed\": 0.01,\n",
    "}\n",
    "\n",
    "outputs = pd.DataFrame(columns=r0s)\n",
    "sir_model = build_sir_model(config)\n",
    "\n",
    "for r0 in r0s:\n",
    "    parameters[\"contact_rate\"] = r0 * parameters[\"recovery\"]\n",
    "    sir_model.run(parameters=parameters)\n",
    "    outputs[r0] = 1. - sir_model.get_outputs_df()[\"susceptible\"]"
   ]
  },
  {
   "cell_type": "code",
   "execution_count": null,
   "id": "0b137a16-22d6-47e4-b15d-396cc71a33cb",
   "metadata": {},
   "outputs": [],
   "source": [
    "fig, (left_ax, right_ax) = plt.subplots(1, 2, figsize=(14, 5))\n",
    "left_ax.plot(\n",
    "    r0s,\n",
    "    outputs.iloc[-1],\n",
    "    color=\"k\",\n",
    ")\n",
    "left_ax.set_ylabel(\"Proportion infected by the end of the epidemic\")\n",
    "left_ax.set_ylim((0., 1.))\n",
    "left_ax.set_xlabel(\"Basic reproduction number\")\n",
    "left_ax.set_xlim((0., 15.))\n",
    "image = plt.imread(\"./figures/fig_4_12.jpg\")\n",
    "right_ax.axis(\"off\")\n",
    "right_ax.imshow(image, aspect=\"auto\");"
   ]
  }
 ],
 "metadata": {
  "kernelspec": {
   "display_name": "Python 3 (ipykernel)",
   "language": "python",
   "name": "python3"
  },
  "language_info": {
   "codemirror_mode": {
    "name": "ipython",
    "version": 3
   },
   "file_extension": ".py",
   "mimetype": "text/x-python",
   "name": "python",
   "nbconvert_exporter": "python",
   "pygments_lexer": "ipython3",
   "version": "3.10.4"
  }
 },
 "nbformat": 4,
 "nbformat_minor": 5
}
