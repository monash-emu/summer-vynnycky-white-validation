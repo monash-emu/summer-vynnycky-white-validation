{
 "cells": [
  {
   "cell_type": "code",
   "execution_count": null,
   "id": "1e2c4d4a-4ba9-4774-9dc9-710d10e4e3f8",
   "metadata": {},
   "outputs": [],
   "source": [
    "import numpy as np"
   ]
  },
  {
   "cell_type": "code",
   "execution_count": null,
   "id": "fbf21639-3e55-4aa6-84ee-c9c02153505f",
   "metadata": {},
   "outputs": [],
   "source": [
    "strain_compartment_infectiousness = np.array([1., 1., 1., 1.])  # Vector of infectiousness with dimensions compartments relevant to strain\n",
    "infected_values = np.array([1., 0., 1., 1.])  # Vector of compartment values with dimensions compartments relevant to strain\n",
    "strain_category_indexer = np.array([[0, 1], [2, 3]])  # Indexer (for this strain) with each row containing indices for the mixing category\n",
    "infectious_populations = np.sum(infected_values[strain_category_indexer], axis=-1)  # Total sizes of the infectious population for each mixing category (for this strain)\n",
    "category_populations = np.array([10., 10.])  # Vector containing total population sizes of each mixing category (with dimension mixing categories)\n",
    "category_prevalence = infectious_populations / category_populations  # Vector of dimension mixing categories\n",
    "mixing_matrix = np.array(\n",
    "    [\n",
    "        [1., 2.],\n",
    "        [3., 4.],\n",
    "    ]\n",
    ")  # Square matrix with dimensions mixing categories\n",
    "mixing_matrix @ category_prevalence"
   ]
  },
  {
   "cell_type": "markdown",
   "id": "ccb5a40e-1e25-454d-8693-bc8fda569ddc",
   "metadata": {},
   "source": [
    "Code pulled out of summer2"
   ]
  },
  {
   "cell_type": "code",
   "execution_count": null,
   "id": "a2626963-6aab-4f0a-a04d-98d62aa88b36",
   "metadata": {},
   "outputs": [],
   "source": [
    "def get_strain_infection_values(\n",
    "    strain_infectious_values,\n",
    "    strain_compartment_infectiousness,\n",
    "    strain_category_indexer,\n",
    "    mixing_matrix,\n",
    "    category_populations,\n",
    "):\n",
    "    infected_values = strain_infectious_values * strain_compartment_infectiousness\n",
    "    infectious_populations = np.sum(infected_values[strain_category_indexer], axis=-1)\n",
    "    infection_density = mixing_matrix @ infectious_populations\n",
    "    category_prevalence = infectious_populations / category_populations\n",
    "    infection_frequency = mixing_matrix @ category_prevalence\n",
    "    return {\"infection_density\": infection_density, \"infection_frequency\": infection_frequency}"
   ]
  },
  {
   "cell_type": "code",
   "execution_count": null,
   "id": "079d71d8-f8dd-4fd9-aee4-3dbcdbaaeab1",
   "metadata": {},
   "outputs": [],
   "source": [
    "strain_infectious_values = np.array([1., 1., 1., 1.])\n",
    "strain_compartment_infectiousness = np.array([1., 1., 1., 1.])\n",
    "strain_category_indexer = np.array(\n",
    "    [\n",
    "        [1, 1, 0, 0],\n",
    "        [0, 0, 1, 1],\n",
    "    ]\n",
    ")\n",
    "category_populations = np.array([10., 10.])\n",
    "mixing_matrix = np.array(\n",
    "    [\n",
    "        [1., 2.],\n",
    "        [3., 4.],\n",
    "    ]\n",
    ")"
   ]
  },
  {
   "cell_type": "code",
   "execution_count": null,
   "id": "fbd96478-5f21-4de0-b9cb-a06666dee79a",
   "metadata": {},
   "outputs": [],
   "source": [
    "get_strain_infection_values(\n",
    "    strain_infectious_values,\n",
    "    strain_compartment_infectiousness,\n",
    "    strain_category_indexer,\n",
    "    mixing_matrix,\n",
    "    category_populations,\n",
    ")[\"infection_frequency\"]"
   ]
  }
 ],
 "metadata": {
  "kernelspec": {
   "display_name": "Python 3 (ipykernel)",
   "language": "python",
   "name": "python3"
  },
  "language_info": {
   "codemirror_mode": {
    "name": "ipython",
    "version": 3
   },
   "file_extension": ".py",
   "mimetype": "text/x-python",
   "name": "python",
   "nbconvert_exporter": "python",
   "pygments_lexer": "ipython3",
   "version": "3.10.4"
  }
 },
 "nbformat": 4,
 "nbformat_minor": 5
}
