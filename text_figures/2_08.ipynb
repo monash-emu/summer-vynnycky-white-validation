{
 "cells": [
  {
   "cell_type": "markdown",
   "id": "valued-provider",
   "metadata": {},
   "source": [
    "### Fig. 2.8, page 36\n",
    "Also identical to Figure 1 from `model 2.1.xlsx` in worked examples."
   ]
  },
  {
   "cell_type": "code",
   "execution_count": null,
   "id": "graphic-secretariat",
   "metadata": {},
   "outputs": [],
   "source": [
    "import matplotlib.pyplot as plt\n",
    "from matplotlib.ticker import AutoMinorLocator\n",
    "\n",
    "from summer2 import CompartmentalModel\n",
    "from summer2.parameters import Parameter"
   ]
  },
  {
   "cell_type": "code",
   "execution_count": null,
   "id": "isolated-bridges",
   "metadata": {},
   "outputs": [],
   "source": [
    "def build_seir_model(\n",
    "    config: dict,\n",
    ") -> CompartmentalModel:\n",
    "    \n",
    "    # Model characteristics\n",
    "    compartments = (\n",
    "        \"Susceptible\", \n",
    "        \"Pre-infectious\", \n",
    "        \"Infectious\", \n",
    "        \"Immune\"\n",
    "    )\n",
    "    model = CompartmentalModel(\n",
    "        times=(0, config[\"end_time\"]),\n",
    "        compartments=compartments,\n",
    "        infectious_compartments=(\"Infectious\",),\n",
    "    )\n",
    "    model.set_initial_population(\n",
    "        distribution={\n",
    "            \"Susceptible\": config[\"population\"] - config[\"infectious_seed\"],\n",
    "            \"Infectious\": config[\"infectious_seed\"],\n",
    "        }\n",
    "    )\n",
    "    \n",
    "    # Transitions\n",
    "    rec_rate = Parameter(\"rec_rate\")\n",
    "    model.add_infection_frequency_flow(\n",
    "        name=\"infection\",\n",
    "        contact_rate=Parameter(\"r0\") * rec_rate,\n",
    "        source=\"Susceptible\",\n",
    "        dest=\"Pre-infectious\"\n",
    "    )\n",
    "    model.add_transition_flow(\n",
    "        name=\"progression\", \n",
    "        fractional_rate=Parameter(\"infous_rate\"),\n",
    "        source=\"Pre-infectious\", \n",
    "        dest=\"Infectious\"\n",
    "    )\n",
    "    model.add_transition_flow(\n",
    "        name=\"recovery\", \n",
    "        fractional_rate=rec_rate,\n",
    "        source=\"Infectious\", \n",
    "        dest=\"Immune\"\n",
    "    )\n",
    "    \n",
    "    # Output\n",
    "    model.request_output_for_flow(\n",
    "        name=\"incidence\", \n",
    "        flow_name=\"progression\",\n",
    "        raw_results=True,\n",
    "    )\n",
    "    return model"
   ]
  },
  {
   "cell_type": "code",
   "execution_count": null,
   "id": "floral-kitty",
   "metadata": {},
   "outputs": [],
   "source": [
    "model_config = {\n",
    "    \"population\": 1e5,\n",
    "    \"infectious_seed\": 1.,\n",
    "    \"end_time\": 200.,\n",
    "}\n",
    "\n",
    "parameters = {\n",
    "    \"r0\": 2.,\n",
    "    \"infous_rate\": 1. / 2.,\n",
    "    \"rec_rate\": 1. / 2.,\n",
    "}"
   ]
  },
  {
   "cell_type": "code",
   "execution_count": null,
   "id": "understanding-wheat",
   "metadata": {},
   "outputs": [],
   "source": [
    "seir_model = build_seir_model(model_config)\n",
    "seir_model.run(parameters=parameters)\n",
    "compartments = seir_model.get_outputs_df()"
   ]
  },
  {
   "cell_type": "code",
   "execution_count": null,
   "id": "improved-watch",
   "metadata": {},
   "outputs": [],
   "source": [
    "fig, (left_ax, right_ax) = plt.subplots(1, 2, figsize=(14, 5))\n",
    "twin_ax = left_ax.twinx()\n",
    "\n",
    "left_ax.plot(compartments[\"Susceptible\"], color=\"0.2\", label=\"Susceptible\")\n",
    "left_ax.plot(compartments[\"Immune\"], color=\"0.8\", label=\"Immune\")\n",
    "twin_ax.plot(seir_model.times, seir_model.derived_outputs[\"incidence\"], color=\"0.5\", label=\"Infectious\")\n",
    "\n",
    "left_ax.legend()\n",
    "left_ax.set_xlabel(\"Time (days)\")\n",
    "left_ax.set_xlim(0, 200)\n",
    "left_ax.set_xticks(range(0, 250, 50))\n",
    "left_ax.xaxis.set_minor_locator(AutoMinorLocator(5))\n",
    "left_ax.set_ylim(0, 1e5)\n",
    "left_ax.set_ylabel(\"Number of susceptible or immune individuals\")\n",
    "left_ax.spines.top.set_visible(False)\n",
    "\n",
    "twin_ax.legend(loc=4)\n",
    "twin_ax.set_ylim(0, 5000)\n",
    "twin_ax.set_ylabel(\"Number of new infectious persons/day\")\n",
    "twin_ax.spines.top.set_visible(False)\n",
    "\n",
    "image = plt.imread(\"./figures/fig_2_8.jpg\")\n",
    "right_ax.axis(\"off\")\n",
    "right_ax.imshow(image, aspect=\"auto\");"
   ]
  }
 ],
 "metadata": {
  "kernelspec": {
   "display_name": "Python 3 (ipykernel)",
   "language": "python",
   "name": "python3"
  },
  "language_info": {
   "codemirror_mode": {
    "name": "ipython",
    "version": 3
   },
   "file_extension": ".py",
   "mimetype": "text/x-python",
   "name": "python",
   "nbconvert_exporter": "python",
   "pygments_lexer": "ipython3",
   "version": "3.10.3"
  }
 },
 "nbformat": 4,
 "nbformat_minor": 5
}
