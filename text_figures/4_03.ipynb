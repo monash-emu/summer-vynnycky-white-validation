{
 "cells": [
  {
   "cell_type": "markdown",
   "id": "3aac3ace-daad-4700-b932-cd4c8582fa8a",
   "metadata": {
    "tags": []
   },
   "source": [
    "Doesn't look identical, but not all parameters are specified (i.e. infectious seed)."
   ]
  },
  {
   "cell_type": "code",
   "execution_count": null,
   "id": "72fb09ec-49e8-43b4-a382-a9a45b4de38d",
   "metadata": {},
   "outputs": [],
   "source": [
    "import numpy as np\n",
    "import matplotlib.pyplot as plt\n",
    "from matplotlib.ticker import AutoMinorLocator\n",
    "\n",
    "from summer2 import CompartmentalModel\n",
    "from summer2.parameters import Parameter"
   ]
  },
  {
   "cell_type": "code",
   "execution_count": null,
   "id": "74f81160-9f68-4f06-b5bf-fa9574a74cb9",
   "metadata": {},
   "outputs": [],
   "source": [
    "def build_seir_model(\n",
    "    model_config\n",
    ") -> CompartmentalModel:\n",
    "\n",
    "    # Model characteristics\n",
    "    compartments = (\n",
    "        \"Susceptible\", \n",
    "        \"Pre-infectious\", \n",
    "        \"Infectious\", \n",
    "        \"Immune\"\n",
    "    )\n",
    "    model = CompartmentalModel(\n",
    "        times=(0., model_config[\"end_time\"]),\n",
    "        compartments=compartments,\n",
    "        infectious_compartments=[\"Infectious\"],\n",
    "    )\n",
    "    model.set_initial_population(\n",
    "        distribution={\n",
    "            \"Susceptible\": model_config[\"total_population\"] - model_config[\"infectious_seed\"],\n",
    "            \"Infectious\": model_config[\"infectious_seed\"],\n",
    "        }\n",
    "    )\n",
    "    \n",
    "    # Transitions\n",
    "    model.add_infection_frequency_flow(\n",
    "        name=\"infection\", \n",
    "        contact_rate=Parameter(\"r0\") / Parameter(\"infectious_period\"),\n",
    "        source=\"Susceptible\",\n",
    "        dest=\"Pre-infectious\"\n",
    "    )\n",
    "    model.add_transition_flow(\n",
    "        name=\"progression\", \n",
    "        fractional_rate=1. / Parameter(\"latent_period\"),\n",
    "        source=\"Pre-infectious\", \n",
    "        dest=\"Infectious\"\n",
    "    )\n",
    "    model.add_transition_flow(\n",
    "        name=\"recovery\", \n",
    "        fractional_rate=1. / Parameter(\"infectious_period\"), \n",
    "        source=\"Infectious\", \n",
    "        dest=\"Immune\"\n",
    "    )\n",
    "    \n",
    "    # Output\n",
    "    model.request_output_for_flow(\n",
    "        name=\"incidence\", \n",
    "        flow_name=\"progression\"\n",
    "    )\n",
    "    return model"
   ]
  },
  {
   "cell_type": "code",
   "execution_count": null,
   "id": "24460b42-854c-468d-8c0e-bb97db7d7e48",
   "metadata": {},
   "outputs": [],
   "source": [
    "config = {\n",
    "    \"total_population\": 1e5,\n",
    "    \"infectious_seed\": 1.,  # Not specified in text\n",
    "    \"end_time\": 120.,\n",
    "}\n",
    "\n",
    "parameters = {\n",
    "    \"r0\": 13.,\n",
    "    \"latent_period\": 7.,\n",
    "    \"infectious_period\": 8.,\n",
    "}"
   ]
  },
  {
   "cell_type": "code",
   "execution_count": null,
   "id": "0c584adf-8d51-481d-ba19-a965845ce024",
   "metadata": {},
   "outputs": [],
   "source": [
    "measles_model = build_seir_model(config)\n",
    "measles_model.run(parameters=parameters)"
   ]
  },
  {
   "cell_type": "markdown",
   "id": "8a6b4464-2a36-4311-a8db-655a2de68888",
   "metadata": {
    "tags": []
   },
   "source": [
    "#### Panel (a), left - measles"
   ]
  },
  {
   "cell_type": "code",
   "execution_count": null,
   "id": "d0a61105-2793-44b2-9969-5a26157ab4d4",
   "metadata": {},
   "outputs": [],
   "source": [
    "fig, (left_ax, right_ax) = plt.subplots(1, 2, figsize=(14, 5))\n",
    "\n",
    "left_ax.plot(\n",
    "    measles_model.times, \n",
    "    measles_model.get_outputs_df()[\"Susceptible\"] / config[\"total_population\"],\n",
    "    color=\"0.5\",\n",
    "    label=\"Susceptible\",\n",
    ")\n",
    "left_ax.set_ylim(0., 1.)\n",
    "left_ax.set_ylabel(\"Proportion susceptible\")\n",
    "left_ax.set_xlim(0., 120.)\n",
    "left_ax.legend()\n",
    "left_ax.set_title(\"Measles\")\n",
    "left_ax.spines.top.set_visible(False)\n",
    "\n",
    "twin_ax = left_ax.twinx()\n",
    "twin_ax.plot(\n",
    "    measles_model.times,\n",
    "    measles_model.get_derived_outputs_df()[\"incidence\"], \n",
    "    color=\"0\", \n",
    "    linestyle=\"--\",\n",
    "    label=\"Infectious\",\n",
    ")\n",
    "twin_ax.set_ylim(0., 8000.)\n",
    "twin_ax.legend(loc=4)\n",
    "twin_ax.spines.top.set_visible(False)\n",
    "\n",
    "image = plt.imread(\"./figures/fig_4_3a_measles.jpg\")\n",
    "right_ax.imshow(image, aspect=\"auto\")\n",
    "right_ax.axis(\"off\");"
   ]
  },
  {
   "cell_type": "markdown",
   "id": "93922ef7-5bd3-4265-8bc1-8de2acafc0e1",
   "metadata": {
    "tags": []
   },
   "source": [
    "#### Panel (b), left - measles"
   ]
  },
  {
   "cell_type": "code",
   "execution_count": null,
   "id": "74f0f2fc-2f91-41e0-a7f2-dc660b6ef5c1",
   "metadata": {},
   "outputs": [],
   "source": [
    "fig, (left_ax, right_ax) = plt.subplots(1, 2, figsize=(14, 5))\n",
    "\n",
    "left_ax.plot(\n",
    "    measles_model.times, \n",
    "    measles_model.get_outputs_df()[\"Susceptible\"] / config[\"total_population\"],\n",
    "    color=\"0.5\",\n",
    "    label=\"Susceptible\",\n",
    ")\n",
    "reproduction_number = parameters[\"r0\"] * measles_model.get_outputs_df()[\"Susceptible\"] / config[\"total_population\"]\n",
    "left_ax.plot(\n",
    "    measles_model.times,\n",
    "    reproduction_number,\n",
    "    color=\"0.\",\n",
    "    label=\"Rn\",\n",
    ")\n",
    "left_ax.set_ylim(0., 13.)\n",
    "left_ax.set_ylabel(\"Proportion susceptible\")\n",
    "left_ax.set_xlim(0., 120.)\n",
    "left_ax.set_title(\"Measles\")\n",
    "left_ax.spines.top.set_visible(False)\n",
    "\n",
    "twin_ax = left_ax.twinx()\n",
    "twin_ax.plot(\n",
    "    measles_model.times, \n",
    "    measles_model.get_derived_outputs_df()[\"incidence\"], \n",
    "    color=\"0\", \n",
    "    linestyle=\"--\",\n",
    "    label=\"Infectious\",\n",
    ")\n",
    "twin_ax.set_ylim(0., 8000.)\n",
    "twin_ax.spines.top.set_visible(False)\n",
    "\n",
    "left_ax.legend()\n",
    "twin_ax.legend(loc=4)\n",
    "\n",
    "image = plt.imread(\"./figures/fig_4_3b_measles.jpg\")\n",
    "right_ax.imshow(image, aspect=\"auto\")\n",
    "right_ax.axis(\"off\");"
   ]
  },
  {
   "cell_type": "code",
   "execution_count": null,
   "id": "92265f93-01ba-42cf-bb61-8060eb96c4c3",
   "metadata": {},
   "outputs": [],
   "source": [
    "parameters = {\n",
    "    \"r0\": 2.,\n",
    "    \"infectious_period\": 2.,\n",
    "    \"latent_period\": 2.,\n",
    "}\n",
    "flu_model = build_seir_model(config)\n",
    "flu_model.run(parameters=parameters)"
   ]
  },
  {
   "cell_type": "markdown",
   "id": "3d035b37-d600-4bdf-877e-921abdebf61c",
   "metadata": {
    "tags": []
   },
   "source": [
    "#### Panel (a), right - influenza"
   ]
  },
  {
   "cell_type": "code",
   "execution_count": null,
   "id": "71fb7321-3d78-4f64-8c0c-cc2f98acd7fb",
   "metadata": {},
   "outputs": [],
   "source": [
    "fig, (left_ax, right_ax) = plt.subplots(1, 2, figsize=(14, 5))\n",
    "\n",
    "left_ax.plot(\n",
    "    flu_model.times, \n",
    "    flu_model.get_outputs_df()[\"Susceptible\"] / config[\"total_population\"],\n",
    "    color=\"0.5\",\n",
    "    label=\"Susceptible\",\n",
    ")\n",
    "left_ax.set_ylim(0., 1.)\n",
    "left_ax.set_ylabel(\"Proportion susceptible\")\n",
    "left_ax.set_xlim(0., 120.)\n",
    "left_ax.legend()\n",
    "left_ax.set_title(\"Influenza\")\n",
    "left_ax.spines.top.set_visible(False)\n",
    "\n",
    "twin_ax = left_ax.twinx()\n",
    "twin_ax.plot(\n",
    "    flu_model.times, \n",
    "    flu_model.get_derived_outputs_df()[\"incidence\"], \n",
    "    color=\"0\", \n",
    "    linestyle=\"--\",\n",
    "    label=\"Incidence\",\n",
    ")\n",
    "twin_ax.set_ylim(0., 8000.)\n",
    "twin_ax.legend(loc=4)\n",
    "twin_ax.spines.top.set_visible(False)\n",
    "\n",
    "image = plt.imread(\"./figures/fig_4_3a_flu.jpg\")\n",
    "right_ax.imshow(image, aspect=\"auto\")\n",
    "right_ax.axis(\"off\");"
   ]
  },
  {
   "cell_type": "markdown",
   "id": "dd6bb1d7-bfe0-4955-9245-d51b90a92ee2",
   "metadata": {
    "tags": []
   },
   "source": [
    "#### Panel (b), right - influenza"
   ]
  },
  {
   "cell_type": "code",
   "execution_count": null,
   "id": "7f701395-772b-4992-aca3-ef2f3e32fb78",
   "metadata": {},
   "outputs": [],
   "source": [
    "fig, (left_ax, right_ax) = plt.subplots(1, 2, figsize=(14, 5))\n",
    "\n",
    "left_ax.plot(\n",
    "    flu_model.times, \n",
    "    flu_model.get_outputs_df()[\"Susceptible\"] / config[\"total_population\"],\n",
    "    color=\"0.5\",\n",
    "    label=\"Susceptible\",\n",
    ")\n",
    "reproduction_number = parameters[\"r0\"] * flu_model.get_outputs_df()[\"Susceptible\"] / config[\"total_population\"]\n",
    "left_ax.plot(\n",
    "    flu_model.times,\n",
    "    reproduction_number,\n",
    "    color=\"0.\",\n",
    "    label=\"Rn\",\n",
    ")\n",
    "left_ax.set_ylim(0., 2.)\n",
    "left_ax.set_ylabel(\"Proportion susceptible\")\n",
    "left_ax.set_xlim(0., 120.)\n",
    "left_ax.set_title(\"Influenza\")\n",
    "left_ax.xaxis.set_minor_locator(AutoMinorLocator(5))\n",
    "left_ax.yaxis.set_minor_locator(AutoMinorLocator(5))\n",
    "left_ax.set_yticks(np.linspace(0., 2., 5))\n",
    "left_ax.spines.top.set_visible(False)\n",
    "\n",
    "twin_ax = left_ax.twinx()\n",
    "twin_ax.plot(\n",
    "    flu_model.times, \n",
    "    flu_model.get_derived_outputs_df()[\"incidence\"], \n",
    "    color=\"0\", \n",
    "    linestyle=\"--\",\n",
    "    label=\"Incidence\",\n",
    ")\n",
    "twin_ax.set_ylim(0., 8000.)\n",
    "twin_ax.spines.top.set_visible(False)\n",
    "\n",
    "left_ax.legend()\n",
    "twin_ax.legend(loc=4)\n",
    "\n",
    "image = plt.imread(\"./figures/fig_4_3b_flu.jpg\")\n",
    "right_ax.imshow(image, aspect=\"auto\")\n",
    "right_ax.axis(\"off\");"
   ]
  }
 ],
 "metadata": {
  "kernelspec": {
   "display_name": "Python 3 (ipykernel)",
   "language": "python",
   "name": "python3"
  },
  "language_info": {
   "codemirror_mode": {
    "name": "ipython",
    "version": 3
   },
   "file_extension": ".py",
   "mimetype": "text/x-python",
   "name": "python",
   "nbconvert_exporter": "python",
   "pygments_lexer": "ipython3",
   "version": "3.10.3"
  }
 },
 "nbformat": 4,
 "nbformat_minor": 5
}
