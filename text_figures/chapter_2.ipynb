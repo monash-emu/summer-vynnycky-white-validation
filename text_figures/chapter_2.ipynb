{
 "cells": [
  {
   "cell_type": "markdown",
   "id": "valued-provider",
   "metadata": {},
   "source": [
    "# Chapter 2 textbook figures\n",
    "### Fig. 2.8, page 36\n",
    "Also identical to Figure 1 from `model 2.1.xlsx` in worked examples."
   ]
  },
  {
   "cell_type": "code",
   "execution_count": null,
   "id": "graphic-secretariat",
   "metadata": {},
   "outputs": [],
   "source": [
    "from summer import CompartmentalModel\n",
    "import matplotlib.pyplot as plt"
   ]
  },
  {
   "cell_type": "code",
   "execution_count": null,
   "id": "floral-kitty",
   "metadata": {},
   "outputs": [],
   "source": [
    "# Parameterise\n",
    "population = 100000.\n",
    "latent_period = 2.\n",
    "infectious_period = 2.\n",
    "r0 = 2\n",
    "contact_rate = r0 / infectious_period\n",
    "infous_rate = 1. / latent_period\n",
    "rec_rate = 1. / infectious_period\n",
    "infectious_seed = 1."
   ]
  },
  {
   "cell_type": "code",
   "execution_count": null,
   "id": "isolated-bridges",
   "metadata": {},
   "outputs": [],
   "source": [
    "# Create equivalent model\n",
    "compartments = (\n",
    "    \"Susceptible\", \n",
    "    \"Pre-infectious\", \n",
    "    \"Infectious\", \n",
    "    \"Immune\"\n",
    ")\n",
    "seir_model = CompartmentalModel(\n",
    "    times=(0, 200),\n",
    "    compartments=compartments,\n",
    "    infectious_compartments=(\"Infectious\",),\n",
    ")\n",
    "seir_model.set_initial_population(\n",
    "    distribution={\n",
    "        \"Susceptible\": population - infectious_seed, \n",
    "        \"Infectious\": infectious_seed\n",
    "    }\n",
    ")\n",
    "seir_model.add_infection_frequency_flow(\n",
    "    name=\"infection\", \n",
    "    contact_rate=contact_rate,\n",
    "    source=\"Susceptible\",\n",
    "    dest=\"Pre-infectious\"\n",
    ")\n",
    "seir_model.add_transition_flow(\n",
    "    name=\"progression\", \n",
    "    fractional_rate=infous_rate,\n",
    "    source=\"Pre-infectious\", \n",
    "    dest=\"Infectious\"\n",
    ")\n",
    "seir_model.add_transition_flow(\n",
    "    name=\"recovery\", \n",
    "    fractional_rate=rec_rate, \n",
    "    source=\"Infectious\", \n",
    "    dest=\"Immune\"\n",
    ")\n",
    "seir_model.request_output_for_flow(\n",
    "    name=\"incidence\", \n",
    "    flow_name=\"progression\",\n",
    "    raw_results=True,\n",
    ")"
   ]
  },
  {
   "cell_type": "code",
   "execution_count": null,
   "id": "understanding-wheat",
   "metadata": {},
   "outputs": [],
   "source": [
    "# Run our SEIR model\n",
    "seir_model.run()\n",
    "seir_compartments = seir_model.get_outputs_df()"
   ]
  },
  {
   "cell_type": "code",
   "execution_count": null,
   "id": "improved-watch",
   "metadata": {},
   "outputs": [],
   "source": [
    "# Create equivalent plots\n",
    "fig, (left_ax, right_ax) = plt.subplots(1, 2, figsize=(14, 5))\n",
    "twin_ax = left_ax.twinx()\n",
    "left_ax.plot(seir_compartments[\"Susceptible\"], color=\"0.2\", label=\"Susceptible\")\n",
    "left_ax.plot(seir_compartments[\"Immune\"], color=\"0.8\", label=\"Immune\")\n",
    "twin_ax.plot(seir_model.times, seir_model.derived_outputs[\"incidence\"], color=\"0.5\", label=\"Incidence\")\n",
    "image = plt.imread(\"../textbook_figures/fig_2_8.jpg\")\n",
    "right_ax.axis(\"off\")\n",
    "right_ax.imshow(image, aspect=\"auto\")\n",
    "left_ax.legend()\n",
    "left_ax.set_xlabel(\"Time (days)\")\n",
    "left_ax.set_xlim((0, 200))\n",
    "left_ax.set_ylim((0, 1e5))\n",
    "left_ax.set_ylabel(\"Number of susceptible or immune individuals\")\n",
    "twin_ax.legend(loc=4)\n",
    "twin_ax.set_ylim((0, 5000))\n",
    "twin_ax.set_ylabel(\"Number of new infectious persons/time step\");"
   ]
  }
 ],
 "metadata": {
  "kernelspec": {
   "display_name": "Python 3 (ipykernel)",
   "language": "python",
   "name": "python3"
  },
  "language_info": {
   "codemirror_mode": {
    "name": "ipython",
    "version": 3
   },
   "file_extension": ".py",
   "mimetype": "text/x-python",
   "name": "python",
   "nbconvert_exporter": "python",
   "pygments_lexer": "ipython3",
   "version": "3.10.3"
  }
 },
 "nbformat": 4,
 "nbformat_minor": 5
}
