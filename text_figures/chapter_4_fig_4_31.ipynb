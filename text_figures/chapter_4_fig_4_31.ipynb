{
 "cells": [
  {
   "cell_type": "code",
   "execution_count": 1,
   "id": "75f1fd3a-b8f4-4f06-9e85-5f1ae870d284",
   "metadata": {},
   "outputs": [],
   "source": [
    "import pandas as pd\n",
    "import numpy as np\n",
    "import matplotlib.pyplot as plt\n",
    "\n",
    "from summer2 import CompartmentalModel\n",
    "from summer2.parameters import Parameter"
   ]
  },
  {
   "cell_type": "code",
   "execution_count": 2,
   "id": "220035bb-5b5f-4e78-979a-e1bd73df342b",
   "metadata": {},
   "outputs": [],
   "source": [
    "def build_sirs_model(\n",
    "    model_config: dict,\n",
    ") -> CompartmentalModel:\n",
    "    compartments = (\n",
    "        \"susceptible\",\n",
    "        \"infectious\",\n",
    "        \"recovered\",\n",
    "    )\n",
    "    analysis_times = (\n",
    "        model_config[\"start_time\"], \n",
    "        model_config[\"end_time\"],\n",
    "    )\n",
    "    model = CompartmentalModel(\n",
    "        times=analysis_times,\n",
    "        compartments=compartments,\n",
    "        infectious_compartments=[\"infectious\"],\n",
    "    )\n",
    "    model.set_initial_population(\n",
    "        distribution=\n",
    "        {\n",
    "            \"susceptible\": model_config[\"population\"] - model_config[\"seed\"], \n",
    "            \"infectious\": model_config[\"seed\"],\n",
    "        }\n",
    "    )\n",
    "    model.add_infection_frequency_flow(\n",
    "        name=\"infection\", \n",
    "        contact_rate=Parameter(\"contact_rate\"),\n",
    "        source=\"susceptible\", \n",
    "        dest=\"infectious\",\n",
    "    )\n",
    "    model.add_transition_flow(\n",
    "        name=\"recovery\", \n",
    "        fractional_rate=Parameter(\"recovery\"),\n",
    "        source=\"infectious\", \n",
    "        dest=\"recovered\",\n",
    "    )\n",
    "    model.add_transition_flow(\n",
    "        name=\"waning\",\n",
    "        fractional_rate=Parameter(\"waning\"),\n",
    "        source=\"recovered\",\n",
    "        dest=\"susceptible\",\n",
    "    )\n",
    "    \n",
    "    model.request_output_for_flow(\n",
    "        \"incidence\",\n",
    "        \"infection\",\n",
    "    )\n",
    "    \n",
    "    return model"
   ]
  },
  {
   "cell_type": "code",
   "execution_count": 3,
   "id": "f21bccce-1a38-4690-8e05-f5055fff499e",
   "metadata": {},
   "outputs": [
    {
     "data": {
      "text/plain": [
       "<AxesSubplot:>"
      ]
     },
     "execution_count": 4,
     "metadata": {},
     "output_type": "execute_result"
    },
    {
     "data": {
      "image/png": "[encoded data removed]",
      "text/plain": [
       "<Figure size 432x288 with 1 Axes>"
      ]
     },
     "metadata": {
      "needs_background": "light"
     },
     "output_type": "display_data"
    }
   ],
   "source": [
    "parameters = {\n",
    "    \"contact_rate\": 1.5 / 60.,\n",
    "    \"recovery\": 1. / 60.,\n",
    "    \"waning\": 1. / 10. / 365.,\n",
    "}\n",
    "config = {\n",
    "    \"start_time\": 0.,\n",
    "    \"end_time\": 50. * 365.,\n",
    "    \"population\": 1.,\n",
    "    \"seed\": 0.01,\n",
    "}\n",
    "\n",
    "wane_rates = (8., 10, 12.)\n",
    "outputs = pd.DataFrame(columns=wane_rates)\n",
    "\n",
    "for wane_rate in wane_rates:\n",
    "    parameters.update(\n",
    "        {\n",
    "            \"waning\": (1. / wane_rate + 1. / 30.) / 365.,  # Not sure if we add in this 1/30 bit here ...\n",
    "        }\n",
    "    )\n",
    "    sirs_model = build_sirs_model(config)\n",
    "    sirs_model.run(parameters=parameters)\n",
    "    outputs[wane_rate] = sirs_model.get_derived_outputs_df()[\"incidence\"] * 1e5 * 30.\n",
    "outputs.plot()"
   ]
  }
 ],
 "metadata": {
  "kernelspec": {
   "display_name": "Python 3 (ipykernel)",
   "language": "python",
   "name": "python3"
  },
  "language_info": {
   "codemirror_mode": {
    "name": "ipython",
    "version": 3
   },
   "file_extension": ".py",
   "mimetype": "text/x-python",
   "name": "python",
   "nbconvert_exporter": "python",
   "pygments_lexer": "ipython3",
   "version": "3.10.4"
  }
 },
 "nbformat": 4,
 "nbformat_minor": 5
}
