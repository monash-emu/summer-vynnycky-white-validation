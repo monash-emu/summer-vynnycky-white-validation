{
 "cells": [
  {
   "cell_type": "markdown",
   "id": "beefe0fc-cc09-490b-9216-4ebdbbc81103",
   "metadata": {},
   "source": [
    "Also covers Fig 5.2"
   ]
  },
  {
   "cell_type": "code",
   "execution_count": null,
   "id": "c19f8c92-d7df-4c54-8ef8-c006391d57cf",
   "metadata": {},
   "outputs": [],
   "source": [
    "import matplotlib.pyplot as plt\n",
    "from matplotlib.ticker import AutoMinorLocator\n",
    "\n",
    "from summer2 import CompartmentalModel\n",
    "from summer2.parameters import Parameter, DerivedOutput"
   ]
  },
  {
   "cell_type": "code",
   "execution_count": null,
   "id": "4e61bc8e-b5c0-467c-a3e7-dfac9e4a3220",
   "metadata": {},
   "outputs": [],
   "source": [
    "model_config = {\n",
    "    \"end_time\": 25550.,\n",
    "    \"total_population\": 1e5,\n",
    "    \"infectious_seed\": 1.,\n",
    "}\n",
    "\n",
    "parameters = {\n",
    "    \"latent_period\": 8.,\n",
    "    \"infectious_period\": 7.,\n",
    "    \"r0\": 13.,\n",
    "    \"life_expectancy\": 70.,\n",
    "}"
   ]
  },
  {
   "cell_type": "code",
   "execution_count": null,
   "id": "5c178dae-7bce-4cf1-a311-e8eb3768e627",
   "metadata": {},
   "outputs": [],
   "source": [
    "def build_demog_model(\n",
    "    config: dict,\n",
    ") -> CompartmentalModel:\n",
    "    \n",
    "    # Model characteristics\n",
    "    compartments = (\n",
    "        \"Susceptible\", \n",
    "        \"Pre-infectious\", \n",
    "        \"Infectious\", \n",
    "        \"Immune\"\n",
    "    )\n",
    "    model = CompartmentalModel(\n",
    "        times=(0, config[\"end_time\"]),\n",
    "        compartments=compartments,\n",
    "        infectious_compartments=[\"Infectious\"],\n",
    "    )\n",
    "    model.set_initial_population(\n",
    "        distribution={\n",
    "            \"Susceptible\": config[\"total_population\"] - config[\"infectious_seed\"],\n",
    "            \"Infectious\": config[\"infectious_seed\"],\n",
    "        }\n",
    "    )\n",
    "    \n",
    "    # Transitions\n",
    "    model.add_infection_frequency_flow(\n",
    "        name=\"infection\", \n",
    "        contact_rate=Parameter(\"r0\") / Parameter(\"infectious_period\"),\n",
    "        source=\"Susceptible\", \n",
    "        dest=\"Pre-infectious\"\n",
    "    )\n",
    "    model.add_transition_flow(\n",
    "        name=\"progression\", \n",
    "        fractional_rate=1. / Parameter(\"latent_period\"),\n",
    "        source=\"Pre-infectious\", \n",
    "        dest=\"Infectious\"\n",
    "    )\n",
    "    model.add_transition_flow(\n",
    "        name=\"recovery\", \n",
    "        fractional_rate=1. / Parameter(\"infectious_period\"), \n",
    "        source=\"Infectious\", \n",
    "        dest=\"Immune\",\n",
    "    )\n",
    "    model.add_replacement_birth_flow(\n",
    "        \"births\",\n",
    "        \"Susceptible\",\n",
    "    )\n",
    "    model.add_universal_death_flows(\n",
    "        \"universal_death\",\n",
    "        death_rate=1. / Parameter(\"life_expectancy\") / 365.,\n",
    "    )\n",
    "    \n",
    "    # Outputs\n",
    "    model.request_output_for_flow(\n",
    "        name=\"incidence\", \n",
    "        flow_name=\"progression\",\n",
    "    )\n",
    "    model.request_output_for_compartments(\n",
    "        name=\"total_population\",\n",
    "        compartments=compartments,\n",
    "    )\n",
    "    model.request_function_output(\n",
    "        name=\"incidence_rate\",\n",
    "        func=DerivedOutput(\"incidence\") / DerivedOutput(\"total_population\") * 1e5,\n",
    "    )\n",
    "        \n",
    "    return model"
   ]
  },
  {
   "cell_type": "code",
   "execution_count": null,
   "id": "d672de6c-29f9-448c-bed1-a17cbd283e0a",
   "metadata": {},
   "outputs": [],
   "source": [
    "seir_demog_model = build_demog_model(model_config)\n",
    "seir_demog_model.run(parameters=parameters)\n",
    "outputs = seir_demog_model.get_outputs_df()"
   ]
  },
  {
   "cell_type": "code",
   "execution_count": null,
   "id": "dc5b547c-515e-4b73-bbaf-bda5ea9036c2",
   "metadata": {},
   "outputs": [],
   "source": [
    "fig, (left_ax, right_ax) = plt.subplots(1, 2, figsize=(14, 5))\n",
    "left_ax.plot(seir_demog_model.times, seir_demog_model.get_derived_outputs_df()[\"incidence\"], color=\"k\")\n",
    "left_ax.set_xlabel(\"Time (days)\")\n",
    "left_ax.set_xlim(0., 25550.)\n",
    "left_ax.set_ylabel(\"Number of new infectious individuals/100,000/day\")\n",
    "left_ax.set_ylim(0, 100.)\n",
    "left_ax.set_xticks(range(0, 29200, 3650))\n",
    "left_ax.spines.top.set_visible(False)\n",
    "left_ax.spines.right.set_visible(False)\n",
    "left_ax.xaxis.set_minor_locator(AutoMinorLocator(5))\n",
    "\n",
    "image = plt.imread(\"./figures/fig_4_17.jpg\")\n",
    "right_ax.axis(\"off\")\n",
    "right_ax.imshow(image, aspect=\"auto\");"
   ]
  }
 ],
 "metadata": {
  "kernelspec": {
   "display_name": "Python 3 (ipykernel)",
   "language": "python",
   "name": "python3"
  },
  "language_info": {
   "codemirror_mode": {
    "name": "ipython",
    "version": 3
   },
   "file_extension": ".py",
   "mimetype": "text/x-python",
   "name": "python",
   "nbconvert_exporter": "python",
   "pygments_lexer": "ipython3",
   "version": "3.10.3"
  }
 },
 "nbformat": 4,
 "nbformat_minor": 5
}
