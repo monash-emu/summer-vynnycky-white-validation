{
 "cells": [
  {
   "cell_type": "code",
   "execution_count": null,
   "id": "b6e07c88-9106-47b2-aba1-11e3ac9130e5",
   "metadata": {},
   "outputs": [],
   "source": [
    "import pandas as pd\n",
    "import matplotlib.pyplot as plt\n",
    "from matplotlib.ticker import AutoMinorLocator\n",
    "\n",
    "from summer2 import CompartmentalModel\n",
    "from summer2.parameters import Parameter"
   ]
  },
  {
   "cell_type": "code",
   "execution_count": null,
   "id": "f6f28ddf-7410-4a1a-b786-930b79097787",
   "metadata": {},
   "outputs": [],
   "source": [
    "def build_seir_model(\n",
    "    config: dict,\n",
    ") -> CompartmentalModel:\n",
    "    \n",
    "    # Model characteristics\n",
    "    compartments = (\n",
    "        \"Susceptible\", \n",
    "        \"Pre-infectious\", \n",
    "        \"Infectious\", \n",
    "        \"Immune\"\n",
    "    )\n",
    "    model = CompartmentalModel(\n",
    "        times=(0., config[\"end_time\"]),\n",
    "        compartments=compartments,\n",
    "        infectious_compartments=[\"Infectious\"],\n",
    "    )\n",
    "    model.set_initial_population(\n",
    "        distribution={\n",
    "            \"Susceptible\": config[\"total_population\"] * (1. - Parameter(\"prop_recovered\")) - config[\"infectious_seed\"], \n",
    "            \"Infectious\": config[\"infectious_seed\"],\n",
    "            \"Immune\": config[\"total_population\"] * Parameter(\"prop_recovered\"),\n",
    "        }\n",
    "    )\n",
    "    \n",
    "    # Transitions\n",
    "    infectious_period = Parameter(\"infectious_period\")\n",
    "    model.add_infection_frequency_flow(\n",
    "        name=\"infection\", \n",
    "        contact_rate=Parameter(\"r0\") / infectious_period,\n",
    "        source=\"Susceptible\",\n",
    "        dest=\"Pre-infectious\"\n",
    "    )\n",
    "    model.add_transition_flow(\n",
    "        name=\"progression\", \n",
    "        fractional_rate=1. / Parameter(\"latent_period\"),\n",
    "        source=\"Pre-infectious\", \n",
    "        dest=\"Infectious\"\n",
    "    )\n",
    "    model.add_transition_flow(\n",
    "        name=\"recovery\", \n",
    "        fractional_rate=1. / infectious_period,\n",
    "        source=\"Infectious\", \n",
    "        dest=\"Immune\"\n",
    "    )\n",
    "    \n",
    "    # Output\n",
    "    model.request_output_for_flow(\n",
    "        name=\"incidence\", \n",
    "        flow_name=\"progression\"\n",
    "    )\n",
    "    \n",
    "    return model"
   ]
  },
  {
   "cell_type": "code",
   "execution_count": null,
   "id": "983ac294-3939-457c-87e8-ca99cac84774",
   "metadata": {},
   "outputs": [],
   "source": [
    "model_config = {\n",
    "    \"total_population\": 1e5,\n",
    "    \"infectious_seed\": 1.,  # Not specified in text\n",
    "    \"end_time\": 2e3,\n",
    "}\n",
    "\n",
    "parameters = {\n",
    "    \"r0\": 13.,\n",
    "    \"latent_period\": 8.,\n",
    "    \"infectious_period\": 7.,\n",
    "}"
   ]
  },
  {
   "cell_type": "code",
   "execution_count": null,
   "id": "03a80741-28b5-4ef1-974d-facde79cca79",
   "metadata": {},
   "outputs": [],
   "source": [
    "measles_model = build_seir_model(model_config)\n",
    "measles_outputs = pd.DataFrame()\n",
    "immune_props = (0., 0.9, 0.92, 0.923, 0.93, 0.95)\n",
    "for immune_prop in immune_props:\n",
    "    parameters.update({\"prop_recovered\": immune_prop})\n",
    "    measles_model.run(parameters=parameters)\n",
    "    measles_outputs[immune_prop] = measles_model.get_derived_outputs_df()[\"incidence\"]"
   ]
  },
  {
   "cell_type": "markdown",
   "id": "3f386a54-f97f-4ed3-892e-904f5d6e35a8",
   "metadata": {
    "tags": []
   },
   "source": [
    "#### Panel a) - measles"
   ]
  },
  {
   "cell_type": "code",
   "execution_count": null,
   "id": "0931b089-8e17-4f7b-8633-13945164a00e",
   "metadata": {},
   "outputs": [],
   "source": [
    "fig, (left_ax, right_ax) = plt.subplots(1, 2, figsize=(14, 5))\n",
    "line_styles = (\":\", \"-\", \"-\", \"-\", \":\", \"--\")\n",
    "colours = (\"0.5\", \"0.5\", \"0.5\", \"0.\", \"0.\", \"0.\")\n",
    "\n",
    "for i_prop, prop in enumerate(immune_props):\n",
    "    left_ax.plot(\n",
    "        measles_model.times,\n",
    "        measles_outputs[prop],\n",
    "        label=prop,\n",
    "        linestyle=line_styles[i_prop],\n",
    "        color=colours[i_prop],\n",
    "    )\n",
    "left_ax.set_yscale(\"log\")\n",
    "left_ax.set_ylim(0.01, 1e4)\n",
    "left_ax.set_xlim(0., model_config[\"end_time\"])\n",
    "left_ax.set_ylabel(\"Number of infectious individuals/100,000/day\")\n",
    "left_ax.set_title(\"Measles\")\n",
    "left_ax.legend(title=\"Proportion immune at the start:\")\n",
    "left_ax.set_xticks(range(0, 2500, 500))\n",
    "left_ax.xaxis.set_minor_locator(AutoMinorLocator(5))\n",
    "left_ax.spines.top.set_visible(False)\n",
    "left_ax.spines.right.set_visible(False)\n",
    "\n",
    "image = plt.imread(\"./figures/fig_4_5a.jpg\")\n",
    "right_ax.imshow(image, aspect=\"auto\")\n",
    "right_ax.axis(\"off\");"
   ]
  },
  {
   "cell_type": "code",
   "execution_count": null,
   "id": "dff406a4-cbc8-455a-8050-2c97498a2787",
   "metadata": {},
   "outputs": [],
   "source": [
    "parameters.update(\n",
    "    {\n",
    "        \"r0\": 2.,\n",
    "        \"latent_period\": 2.,\n",
    "        \"infectious_period\": 2.,\n",
    "    }\n",
    ")\n",
    "\n",
    "flu_model = build_seir_model(model_config)\n",
    "flu_outputs = pd.DataFrame()\n",
    "immune_props = (0., 0.45, 0.49, 0.5, 0.51, 0.55)\n",
    "for immune_prop in immune_props:\n",
    "    parameters.update({\"prop_recovered\": immune_prop})\n",
    "    flu_model.run(parameters=parameters)\n",
    "    flu_outputs[immune_prop] = flu_model.get_derived_outputs_df()[\"incidence\"]"
   ]
  },
  {
   "cell_type": "markdown",
   "id": "8f9d89c2-81ad-4087-9bcb-df4c83a0c575",
   "metadata": {
    "tags": []
   },
   "source": [
    "#### Panel b) - influenza"
   ]
  },
  {
   "cell_type": "code",
   "execution_count": null,
   "id": "e00b9217-3f1e-42ba-bddc-a83cd99bda11",
   "metadata": {},
   "outputs": [],
   "source": [
    "fig, (left_ax, right_ax) = plt.subplots(1, 2, figsize=(14, 5))\n",
    "\n",
    "for i_prop, prop in enumerate(immune_props):\n",
    "    left_ax.plot(\n",
    "        flu_model.times, \n",
    "        flu_outputs[prop],\n",
    "        label=prop,\n",
    "        linestyle=line_styles[i_prop],\n",
    "        color=colours[i_prop],\n",
    "    )\n",
    "left_ax.set_yscale(\"log\")\n",
    "left_ax.set_ylim(0.01, 1e4)\n",
    "left_ax.set_xlim(0., model_config[\"end_time\"])\n",
    "left_ax.set_ylabel(\"Number of infectious individuals/100,000/day\")\n",
    "left_ax.set_title(\"Influenza\")\n",
    "left_ax.legend(title=\"Proportion immune at the start:\")\n",
    "left_ax.set_xticks(range(0, 2500, 500))\n",
    "left_ax.xaxis.set_minor_locator(AutoMinorLocator(5))\n",
    "left_ax.spines.top.set_visible(False)\n",
    "left_ax.spines.right.set_visible(False)\n",
    "\n",
    "image = plt.imread(\"./figures/fig_4_5b.jpg\")\n",
    "right_ax.imshow(image, aspect=\"auto\")\n",
    "right_ax.axis(\"off\");"
   ]
  }
 ],
 "metadata": {
  "kernelspec": {
   "display_name": "Python 3 (ipykernel)",
   "language": "python",
   "name": "python3"
  },
  "language_info": {
   "codemirror_mode": {
    "name": "ipython",
    "version": 3
   },
   "file_extension": ".py",
   "mimetype": "text/x-python",
   "name": "python",
   "nbconvert_exporter": "python",
   "pygments_lexer": "ipython3",
   "version": "3.10.4"
  }
 },
 "nbformat": 4,
 "nbformat_minor": 5
}
