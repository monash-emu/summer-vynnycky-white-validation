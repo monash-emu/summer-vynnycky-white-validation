{
 "cells": [
  {
   "cell_type": "code",
   "execution_count": 1,
   "id": "c8332862-da27-4809-9cee-64e299546ecc",
   "metadata": {},
   "outputs": [],
   "source": [
    "import pandas as pd\n",
    "import numpy as np\n",
    "import matplotlib.pyplot as plt\n",
    "\n",
    "from summer2 import CompartmentalModel\n",
    "from summer2.parameters import Parameter, DerivedOutput"
   ]
  },
  {
   "cell_type": "code",
   "execution_count": 2,
   "id": "152477cf-64f9-41ae-b96f-9f8b63703bca",
   "metadata": {},
   "outputs": [],
   "source": [
    "def build_sis_model(\n",
    "    config: dict,\n",
    ") -> CompartmentalModel:\n",
    "    \n",
    "    # Model characteristics\n",
    "    compartments = (\n",
    "        \"susceptible\",\n",
    "        \"infectious\",\n",
    "    )\n",
    "    analysis_times = (\n",
    "        config[\"start_time\"], \n",
    "        config[\"end_time\"],\n",
    "    )\n",
    "    model = CompartmentalModel(\n",
    "        times=analysis_times,\n",
    "        compartments=compartments,\n",
    "        infectious_compartments=[\"infectious\"],\n",
    "    )\n",
    "    model.set_initial_population(\n",
    "        distribution=\n",
    "        {\n",
    "            \"susceptible\": config[\"population\"] - config[\"seed\"], \n",
    "            \"infectious\": config[\"seed\"],\n",
    "        }\n",
    "    )\n",
    "    \n",
    "    # Transitions\n",
    "    model.add_infection_frequency_flow(\n",
    "        name=\"infection\", \n",
    "        contact_rate=Parameter(\"contact_rate\"),\n",
    "        source=\"susceptible\", \n",
    "        dest=\"infectious\",\n",
    "    )\n",
    "    model.add_transition_flow(\n",
    "        name=\"recovery\", \n",
    "        fractional_rate=Parameter(\"recovery\"),\n",
    "        source=\"infectious\", \n",
    "        dest=\"susceptible\",\n",
    "    )\n",
    "    \n",
    "    # Outputs\n",
    "    model.request_output_for_compartments(\n",
    "        \"infectious\",\n",
    "        [\"infectious\"],\n",
    "        save_results=False,\n",
    "    )\n",
    "    model.request_output_for_compartments(\n",
    "        \"total\",\n",
    "        compartments,\n",
    "        save_results=False,\n",
    "    )\n",
    "    model.request_function_output(\n",
    "        \"prevalence\",\n",
    "        DerivedOutput(\"infectious\") / DerivedOutput(\"total\")\n",
    "    )\n",
    "    \n",
    "    return model"
   ]
  },
  {
   "cell_type": "code",
   "execution_count": 3,
   "id": "0252994a-0c16-44f6-a8fd-cb638d23d135",
   "metadata": {},
   "outputs": [],
   "source": [
    "parameters = {\n",
    "    \"recovery\": 6. / 365.,\n",
    "    \"contact_rate\": 0.75 / 365.,\n",
    "}\n",
    "model_config = {\n",
    "    \"start_time\": 0.,\n",
    "    \"end_time\": 10. * 365.,\n",
    "    \"population\": 1.,\n",
    "    \"seed\": 0.01,\n",
    "}\n",
    "\n",
    "sis_model = build_sis_model(model_config)\n",
    "sis_model.run(parameters=parameters)\n",
    "prevalence = sis_model.get_derived_outputs_df()[\"prevalence\"]"
   ]
  },
  {
   "cell_type": "code",
   "execution_count": 4,
   "id": "c1b8e1ad-1bca-4ea0-8b4b-a3d70887397d",
   "metadata": {},
   "outputs": [
    {
     "data": {
      "image/png": "[encoded data removed]",
      "text/plain": [
       "<Figure size 1008x360 with 2 Axes>"
      ]
     },
     "metadata": {
      "needs_background": "light"
     },
     "output_type": "display_data"
    }
   ],
   "source": [
    "fig, (left_ax, right_ax) = plt.subplots(1, 2, figsize=(14, 5))\n",
    "left_ax.plot(\n",
    "    prevalence.index,\n",
    "    prevalence,\n",
    "    color=\"k\",\n",
    ")\n",
    "left_ax.set_ylabel(\"Prevalence of infection\")\n",
    "left_ax.set_xlabel(\"Time\")\n",
    "left_ax.set_ylim(bottom=0.)\n",
    "left_ax.set_xlim(left=0.)\n",
    "left_ax.set_xticks([])\n",
    "left_ax.set_yticks([])\n",
    "left_ax.spines.top.set_visible(False)\n",
    "left_ax.spines.right.set_visible(False)\n",
    "\n",
    "image = plt.imread(\"./figures/fig_8_5.jpg\")\n",
    "right_ax.axis(\"off\")\n",
    "right_ax.imshow(image, aspect=\"auto\");"
   ]
  }
 ],
 "metadata": {
  "kernelspec": {
   "display_name": "Python 3 (ipykernel)",
   "language": "python",
   "name": "python3"
  },
  "language_info": {
   "codemirror_mode": {
    "name": "ipython",
    "version": 3
   },
   "file_extension": ".py",
   "mimetype": "text/x-python",
   "name": "python",
   "nbconvert_exporter": "python",
   "pygments_lexer": "ipython3",
   "version": "3.10.3"
  }
 },
 "nbformat": 4,
 "nbformat_minor": 5
}
