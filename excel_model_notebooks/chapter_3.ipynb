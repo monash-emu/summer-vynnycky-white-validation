{
 "cells": [
  {
   "cell_type": "code",
   "execution_count": null,
   "id": "graphic-secretariat",
   "metadata": {},
   "outputs": [],
   "source": [
    "from summer2 import CompartmentalModel\n",
    "from summer2.parameters import Parameter\n",
    "import matplotlib.pyplot as plt"
   ]
  },
  {
   "cell_type": "markdown",
   "id": "empty-trout",
   "metadata": {},
   "source": [
    "# Chapter 3"
   ]
  },
  {
   "cell_type": "code",
   "execution_count": null,
   "id": "3bf5c763-737d-4b7a-87cc-a26b867aa447",
   "metadata": {},
   "outputs": [],
   "source": [
    "# Key input parameters in model\n",
    "total_population = 100000  # Total population size\n",
    "ave_preinfous = 2  # Average pre-infectious period (days)\n",
    "ave_infous = 2  # Average duration of infectiousness (days)\n",
    "r0 = 2  # R0\n",
    "infectious_seed = 1\n",
    "\n",
    "parameters = {\n",
    "    \"beta\": r0 / ave_infous,\n",
    "    \"infous_rate\": 1. / ave_preinfous,\n",
    "    \"rec_rate\": 1 / ave_infous,\n",
    "}"
   ]
  },
  {
   "cell_type": "code",
   "execution_count": null,
   "id": "2e3e32cf-019b-488e-8c9f-310317b75fc3",
   "metadata": {},
   "outputs": [],
   "source": [
    "# Set up the SEIR model\n",
    "def build_seir_model():\n",
    "    compartments = (\n",
    "        \"Susceptible\", \n",
    "        \"Pre-infectious\", \n",
    "        \"Infectious\", \n",
    "        \"Immune\",\n",
    "    )\n",
    "    model = CompartmentalModel(\n",
    "        times=(0., 200.),\n",
    "        compartments=compartments,\n",
    "        infectious_compartments=[\"Infectious\"],\n",
    "    )\n",
    "    model.set_initial_population(\n",
    "        distribution={\n",
    "            \"Susceptible\": total_population - infectious_seed, \n",
    "            \"Infectious\": infectious_seed\n",
    "        }\n",
    "    )\n",
    "    model.add_infection_frequency_flow(\n",
    "        name=\"infection\", \n",
    "        contact_rate=Parameter(\"beta\"),\n",
    "        source=\"Susceptible\",\n",
    "        dest=\"Pre-infectious\"\n",
    "    )\n",
    "    model.add_transition_flow(\n",
    "        name=\"progression\", \n",
    "        fractional_rate=Parameter(\"infous_rate\"),\n",
    "        source=\"Pre-infectious\", \n",
    "        dest=\"Infectious\"\n",
    "    )\n",
    "    model.add_transition_flow(\n",
    "        name=\"recovery\", \n",
    "        fractional_rate=Parameter(\"rec_rate\"), \n",
    "        source=\"Infectious\", \n",
    "        dest=\"Immune\"\n",
    "    )\n",
    "    model.request_output_for_flow(\n",
    "        name=\"incidence\", \n",
    "        flow_name=\"progression\"\n",
    "    )\n",
    "    model.request_output_for_flow(\n",
    "        name=\"infection\", \n",
    "        flow_name=\"infection\"\n",
    "    )\n",
    "    return model"
   ]
  },
  {
   "cell_type": "code",
   "execution_count": null,
   "id": "94fa78c2-90b5-4b39-8d46-b5c354c01513",
   "metadata": {},
   "outputs": [],
   "source": [
    "seir_model = build_seir_model()"
   ]
  },
  {
   "cell_type": "code",
   "execution_count": null,
   "id": "eca7e41d-d5b1-4c5b-a696-69916d65daf9",
   "metadata": {},
   "outputs": [],
   "source": [
    "seir_model.run(parameters)"
   ]
  },
  {
   "cell_type": "code",
   "execution_count": null,
   "id": "practical-lightweight",
   "metadata": {},
   "outputs": [],
   "source": [
    "# No more analysis needed, straight to plotting\n",
    "fig, (left_ax, right_ax) = plt.subplots(1, 2, figsize=(14, 5))\n",
    "left_ax.plot(seir_model.times, seir_model.outputs.T[2], color=\"red\")\n",
    "left_ax.set_xlim(0, 1e2)\n",
    "left_ax.set_ylim((0, 2e4))\n",
    "left_ax.set_xlabel(\"Time (days)\")\n",
    "left_ax.set_ylabel(\"Number of infectious persons\")\n",
    "\n",
    "# Comparison graph from textbook\n",
    "image = plt.imread(\"../excel_model_figures/model_3_1_fig_flu.JPG\")\n",
    "right_ax.axis(\"off\")\n",
    "right_ax.imshow(image, aspect=\"auto\");"
   ]
  },
  {
   "cell_type": "code",
   "execution_count": null,
   "id": "0e364b99-abe7-4425-bafb-7ba8706aaf98",
   "metadata": {},
   "outputs": [],
   "source": [
    "# Switch to measles parameters\n",
    "ave_preinfous = 8.\n",
    "ave_infous = 7.\n",
    "r0 = 13.\n",
    "\n",
    "parameters = {\n",
    "    \"beta\": r0 / ave_infous,\n",
    "    \"infous_rate\": 1. / ave_preinfous,\n",
    "    \"rec_rate\": 1 / ave_infous,\n",
    "}"
   ]
  },
  {
   "cell_type": "code",
   "execution_count": null,
   "id": "fcfa24af-a86f-4016-9d4d-392603ba59f3",
   "metadata": {},
   "outputs": [],
   "source": [
    "seir_model.run(parameters=parameters)"
   ]
  },
  {
   "cell_type": "code",
   "execution_count": null,
   "id": "785e3d48-c08f-4a52-9484-1029ed00887e",
   "metadata": {},
   "outputs": [],
   "source": [
    "# No more analysis needed, straight to plotting\n",
    "fig, (left_ax, right_ax) = plt.subplots(1, 2, figsize=(14, 5))\n",
    "left_ax.plot(seir_model.times, seir_model.outputs.T[2], color=\"red\")\n",
    "left_ax.set_xlim(0, 1e2)\n",
    "left_ax.set_ylim((0, 5e4))\n",
    "left_ax.set_xlabel(\"Time (days)\")\n",
    "left_ax.set_ylabel(\"Number of infectious persons\")\n",
    "\n",
    "# Comparison graph from textbook\n",
    "image = plt.imread(\"../excel_model_figures/model_3_1_fig_measles.JPG\")\n",
    "right_ax.axis(\"off\")\n",
    "right_ax.imshow(image, aspect=\"auto\");"
   ]
  },
  {
   "cell_type": "markdown",
   "id": "premier-pontiac",
   "metadata": {},
   "source": [
    "## Model 3.2\n",
    "Model from spreadsheet 3.2, the single figure presented."
   ]
  },
  {
   "cell_type": "code",
   "execution_count": null,
   "id": "isolated-academy",
   "metadata": {},
   "outputs": [],
   "source": [
    "# Recycle the parameters that are unchanged, but change the following:\n",
    "ave_preinfous = 8\n",
    "ave_infous = 7\n",
    "r0 = 13\n",
    "life_expectancy = 70\n",
    "\n",
    "# Derived parameters\n",
    "beta = r0 / ave_infous\n",
    "infous_rate = 1 / ave_preinfous\n",
    "rec_rate = 1 / ave_infous\n",
    "m_rate = 1 / life_expectancy / 365\n",
    "\n",
    "parameters = {\n",
    "    \"beta\": r0 / ave_infous,\n",
    "    \"infous_rate\": 1. / ave_preinfous,\n",
    "    \"rec_rate\": 1 / ave_infous,\n",
    "}\n",
    "\n",
    "# Create the SEIR model with demographic processes\n",
    "compartments = (\"Susceptible\", \"Pre-infectious\", \"Infectious\", \"Immune\")\n",
    "seir_demog_model = CompartmentalModel(\n",
    "    times=[0, 36500],\n",
    "    compartments=compartments,\n",
    "    infectious_compartments=[\"Infectious\"],\n",
    ")\n",
    "seir_demog_model.set_initial_population(\n",
    "    distribution={\n",
    "        \"Susceptible\": total_population - infectious_seed, \n",
    "        \"Infectious\": infectious_seed\n",
    "    }\n",
    ")\n",
    "seir_demog_model.add_infection_frequency_flow(\n",
    "    name=\"infection\", \n",
    "    contact_rate=Parameter(\"beta\"),\n",
    "    source=\"Susceptible\", \n",
    "    dest=\"Pre-infectious\"\n",
    ")\n",
    "seir_demog_model.add_transition_flow(\n",
    "    name=\"progression\", \n",
    "    fractional_rate=Parameter(\"infous_rate\"),\n",
    "    source=\"Pre-infectious\", \n",
    "    dest=\"Infectious\"\n",
    ")\n",
    "seir_demog_model.add_transition_flow(\n",
    "    name=\"recovery\", \n",
    "    fractional_rate=Parameter(\"rec_rate\"), \n",
    "    source=\"Infectious\", \n",
    "    dest=\"Immune\"\n",
    ")\n",
    "seir_demog_model.add_universal_death_flows(\n",
    "    \"universal_death\",\n",
    "    death_rate=m_rate\n",
    ")\n",
    "seir_demog_model.add_replacement_birth_flow(\n",
    "    \"births\",\n",
    "    \"Susceptible\"\n",
    ")\n",
    "\n",
    "seir_demog_model.request_output_for_flow(\n",
    "    name=\"incidence\", \n",
    "    flow_name=\"progression\"\n",
    ")"
   ]
  },
  {
   "cell_type": "code",
   "execution_count": null,
   "id": "lightweight-prize",
   "metadata": {},
   "outputs": [],
   "source": [
    "seir_demog_model.run(parameters=parameters, solver=\"euler\")"
   ]
  },
  {
   "cell_type": "code",
   "execution_count": null,
   "id": "engaged-mobile",
   "metadata": {},
   "outputs": [],
   "source": [
    "fig, (left_ax, right_ax) = plt.subplots(1, 2, figsize=(14, 5))\n",
    "\n",
    "left_ax.plot(seir_demog_model.times, seir_demog_model.outputs.T[0], color=\"black\", label=\"Susceptible\")\n",
    "left_ax.plot(seir_demog_model.times, seir_demog_model.outputs.T[-1], color=\"green\", label=\"Immune\")\n",
    "left_ax.set_ylim((0, 1e5))\n",
    "left_ax.set_ylabel(\"Number of susceptible or immune persons\")\n",
    "left_ax.set_xlabel(\"Time (days)\")\n",
    "left_ax.legend(loc=1)\n",
    "left_ax.set_xlim((0., 36500.))\n",
    "\n",
    "# Comparison graph from textbook\n",
    "image = plt.imread(\"../excel_model_figures/model_3_2_fig.JPG\")\n",
    "right_ax.axis(\"off\")\n",
    "right_ax.imshow(image, aspect=\"auto\")\n",
    "\n",
    "twin_ax = left_ax.twinx()\n",
    "twin_ax.plot()\n",
    "twin_ax.plot(seir_demog_model.times, seir_demog_model.derived_outputs[\"incidence\"], color=\"purple\", label=\"New infectious persons\")\n",
    "twin_ax.set_ylim((0, 300))\n",
    "twin_ax.set_ylabel(\"Number of new infectious persons per time step\")\n",
    "twin_ax.legend(loc=5);"
   ]
  }
 ],
 "metadata": {
  "kernelspec": {
   "display_name": "Python 3 (ipykernel)",
   "language": "python",
   "name": "python3"
  },
  "language_info": {
   "codemirror_mode": {
    "name": "ipython",
    "version": 3
   },
   "file_extension": ".py",
   "mimetype": "text/x-python",
   "name": "python",
   "nbconvert_exporter": "python",
   "pygments_lexer": "ipython3",
   "version": "3.10.3"
  }
 },
 "nbformat": 4,
 "nbformat_minor": 5
}
